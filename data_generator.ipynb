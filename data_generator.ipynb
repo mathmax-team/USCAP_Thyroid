{
 "cells": [
  {
   "attachments": {},
   "cell_type": "markdown",
   "metadata": {},
   "source": [
    "### Generates the Records_df and from that computes and exports Frequency_df\n",
    "### Frequency_df is the only one directly used by the Pathapp"
   ]
  },
  {
   "cell_type": "code",
   "execution_count": 1,
   "metadata": {},
   "outputs": [],
   "source": [
    "\"\"\"File to generate sample data for testing.\"\"\"\n",
    "from datetime import date, timedelta, datetime\n",
    "import random\n",
    "import math\n",
    "import pandas as pd\n",
    "import numpy as np\n",
    "import plotly.graph_objects as go"
   ]
  },
  {
   "cell_type": "code",
   "execution_count": 2,
   "metadata": {},
   "outputs": [],
   "source": [
    "from sample_data import type_list,value_sign,day,adequacy_list,choices,last_week_date, last_month_date,results_list, genotype_list"
   ]
  },
  {
   "attachments": {},
   "cell_type": "markdown",
   "metadata": {},
   "source": [
    "## Generates the numer of tests processed in a given date"
   ]
  },
  {
   "cell_type": "code",
   "execution_count": 3,
   "metadata": {},
   "outputs": [],
   "source": [
    "### this function defines how busy each day of the week is\n",
    "def busy_days(n:int):\n",
    "    ans=100\n",
    "    if n==6:\n",
    "        ans=0\n",
    "    return ans\n",
    "    \n",
    "    \n",
    "    "
   ]
  },
  {
   "cell_type": "code",
   "execution_count": 4,
   "metadata": {},
   "outputs": [],
   "source": [
    "### this function defines how busy each month is\n",
    "def busy_months(n:int):\n",
    "    ans=1\n",
    "    if n ==12:\n",
    "        ans= 0.8\n",
    "    if n in [1,2,6,7]:\n",
    "        ans=1.2\n",
    "    return ans    \n",
    "    \n",
    "    "
   ]
  },
  {
   "cell_type": "code",
   "execution_count": 5,
   "metadata": {},
   "outputs": [],
   "source": [
    "def number_of_tests(fecha): ### This takes a date and returns how many tests occur\n",
    "    ans=int (busy_days(fecha.weekday())*busy_months(fecha.month)*np.random.uniform(0.95,1.05))\n",
    "    return ans\n"
   ]
  },
  {
   "attachments": {},
   "cell_type": "markdown",
   "metadata": {},
   "source": [
    "## Generate a new row given a data"
   ]
  },
  {
   "cell_type": "code",
   "execution_count": 32,
   "metadata": {},
   "outputs": [],
   "source": [
    "def make_row(fecha):############ This takesa a date and returns an entry in the Records_df\n",
    "    type_of_test=random.choices(type_list,weights=[3,4])[0]\n",
    "    adequacy=random.choices(adequacy_list,weights=[5,2,1])[0]\n",
    "    result=random.choices(results_list,weights=[4,1,1,1,1])[0]\n",
    "    gen_type=random.choice(genotype_list)\n",
    "    cytology=random.choices(value_sign,weights=[4,1])[0]+\"cytology\"\n",
    "    hystology=\"Not prescribed\"\n",
    "    if cytology==\"Positivecytology\":\n",
    "        hystology=random.choices(value_sign,weights=[92,8])[0]+\"hystology\"\n",
    "    need_surgery=0\n",
    "    if cytology==\"Negativecytology\":\n",
    "        need_surgery=random.choices([0,1],weights=[87,13])[0]\n",
    "    \n",
    "    new_row = pd.DataFrame([{'day':fecha.date(), 'type':type_of_test,'adequacy':adequacy, 'result':result,'genotype':gen_type,'cytology':cytology,'hystology':hystology,\"need_surgery\":need_surgery}])\n",
    "    return new_row"
   ]
  },
  {
   "attachments": {},
   "cell_type": "markdown",
   "metadata": {},
   "source": [
    "## Choose the date range "
   ]
  },
  {
   "cell_type": "code",
   "execution_count": 33,
   "metadata": {},
   "outputs": [],
   "source": [
    "starting_date = date.today() - timedelta(days = 366)\n",
    "ending_date=date.today() +timedelta(days = 20)"
   ]
  },
  {
   "attachments": {},
   "cell_type": "markdown",
   "metadata": {},
   "source": [
    "## Generate Records_df"
   ]
  },
  {
   "cell_type": "code",
   "execution_count": 34,
   "metadata": {},
   "outputs": [],
   "source": [
    "def generate_test_df():\n",
    "    columns=['day', 'type', 'adequacy', 'result', 'genotype', 'cytology', 'hystology']\n",
    "    records_df = pd.DataFrame(columns=columns)\n",
    "    daterange = pd.date_range(starting_date, ending_date, freq='D')\n",
    "    for item in daterange:\n",
    "        N_of_test=number_of_tests(item)\n",
    "        for patient in range(N_of_test):\n",
    "            new_row=make_row(item)\n",
    "            records_df = pd.concat([records_df, new_row], axis=0, ignore_index=True)\n",
    "    return records_df"
   ]
  },
  {
   "cell_type": "code",
   "execution_count": 35,
   "metadata": {},
   "outputs": [],
   "source": [
    "Records_df=generate_test_df()"
   ]
  },
  {
   "cell_type": "code",
   "execution_count": 36,
   "metadata": {},
   "outputs": [
    {
     "data": {
      "text/plain": [
       "(34938, 8)"
      ]
     },
     "execution_count": 36,
     "metadata": {},
     "output_type": "execute_result"
    }
   ],
   "source": [
    "Records_df.shape"
   ]
  },
  {
   "cell_type": "code",
   "execution_count": 37,
   "metadata": {},
   "outputs": [
    {
     "data": {
      "text/plain": [
       "(28081, 8)"
      ]
     },
     "execution_count": 37,
     "metadata": {},
     "output_type": "execute_result"
    }
   ],
   "source": [
    "Records_df[Records_df[\"cytology\"]==\"Positivecytology\"].shape"
   ]
  },
  {
   "cell_type": "code",
   "execution_count": 41,
   "metadata": {},
   "outputs": [
    {
     "data": {
      "text/plain": [
       "925.0"
      ]
     },
     "execution_count": 41,
     "metadata": {},
     "output_type": "execute_result"
    }
   ],
   "source": [
    "Records_df[\"need_surgery\"].sum()"
   ]
  },
  {
   "cell_type": "code",
   "execution_count": 24,
   "metadata": {},
   "outputs": [
    {
     "data": {
      "text/plain": [
       "(27975, 8)"
      ]
     },
     "execution_count": 24,
     "metadata": {},
     "output_type": "execute_result"
    }
   ],
   "source": [
    "Records_df[Records_df[\"need_surgery\"]==0].shape"
   ]
  },
  {
   "attachments": {},
   "cell_type": "markdown",
   "metadata": {},
   "source": [
    "### This is the dataframe that the app takes"
   ]
  },
  {
   "cell_type": "code",
   "execution_count": 42,
   "metadata": {},
   "outputs": [],
   "source": [
    "Records_df.to_csv(\"NewRecords.csv\")"
   ]
  },
  {
   "attachments": {},
   "cell_type": "markdown",
   "metadata": {},
   "source": [
    "### GENERATE FREQUENCY DATA FRAME"
   ]
  },
  {
   "cell_type": "code",
   "execution_count": 18,
   "metadata": {},
   "outputs": [],
   "source": [
    "def new_row_frequency(df,fecha):\n",
    "    columnas= list(Records_df.columns)[1:]\n",
    "    new_row_in={\"day\":fecha}\n",
    "    df_fecha=df[df[\"day\"]==fecha]\n",
    "    new_row_in[\"All\"]=df_fecha.shape[0]\n",
    "    for columna in columnas:\n",
    "        column_values=list(df_fecha[columna].unique())\n",
    "        for tipo in column_values:\n",
    "            temp_df=df_fecha[df_fecha[columna]==tipo]\n",
    "            new_row_in[tipo]=temp_df.shape[0]\n",
    "    types=list(df_fecha[\"type\"].unique())\n",
    "    adequacies=list(df_fecha[\"adequacy\"].unique())\n",
    "    cytologies=list(df_fecha[\"cytology\"].unique())\n",
    "    hystologies=list(df_fecha[\"hystology\"].unique())\n",
    "    for tipo in types:\n",
    "        for ad in adequacies:\n",
    "            temp_df=df_fecha[(df_fecha[\"type\"]==tipo) & (df_fecha[\"adequacy\"]==ad)]\n",
    "            new_row_in[tipo+ad]=temp_df.shape[0]\n",
    "        for cyt in cytologies:\n",
    "            temp_df=df_fecha[(df_fecha[\"type\"]==tipo) & (df_fecha[\"cytology\"]==cyt)]\n",
    "            new_row_in[tipo+cyt]=temp_df.shape[0]\n",
    "        for hyst in hystologies:\n",
    "            temp_df=df_fecha[(df_fecha[\"type\"]==tipo) & (df_fecha[\"hystology\"]==hyst)]\n",
    "            new_row_in[tipo+hyst]=temp_df.shape[0]\n",
    "\n",
    "\n",
    "        # new_row_in[\"weekday\"]=week_day(fecha.weekday())\n",
    "    \n",
    "    return pd.DataFrame([new_row_in])"
   ]
  },
  {
   "cell_type": "code",
   "execution_count": 19,
   "metadata": {},
   "outputs": [],
   "source": [
    "def make_frequency_df(df):\n",
    "    fechas=df[\"day\"].unique()\n",
    "    freq_df=pd.DataFrame()\n",
    "    for fecha in fechas:\n",
    "        freq_df=pd.concat([freq_df,new_row_frequency(df,fecha)],axis=0, ignore_index=True)\n",
    "    \n",
    "    return freq_df"
   ]
  },
  {
   "cell_type": "code",
   "execution_count": 20,
   "metadata": {},
   "outputs": [],
   "source": [
    "Frequency_df=make_frequency_df(Records_df)"
   ]
  },
  {
   "cell_type": "code",
   "execution_count": 17,
   "metadata": {},
   "outputs": [],
   "source": [
    "#Frequency_df.to_csv('Frequency.csv')#"
   ]
  }
 ],
 "metadata": {
  "kernelspec": {
   "display_name": "dash_tutorial",
   "language": "python",
   "name": "python3"
  },
  "language_info": {
   "codemirror_mode": {
    "name": "ipython",
    "version": 3
   },
   "file_extension": ".py",
   "mimetype": "text/x-python",
   "name": "python",
   "nbconvert_exporter": "python",
   "pygments_lexer": "ipython3",
   "version": "3.10.8"
  },
  "orig_nbformat": 4,
  "vscode": {
   "interpreter": {
    "hash": "31fb68429e91cc16ee00ba7a208e84b76758121316b8f5a99b7f17a1b208923b"
   }
  }
 },
 "nbformat": 4,
 "nbformat_minor": 2
}
