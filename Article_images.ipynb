{
 "cells": [
  {
   "cell_type": "code",
   "execution_count": 28,
   "metadata": {},
   "outputs": [],
   "source": [
    "import pandas as pd\n",
    "import numpy as np\n",
    "import plotly.express as px\n",
    "from plotly import graph_objs as go\n",
    "from plotly.graph_objs import *\n",
    "from datetime import date,timedelta\n",
    "from be.controllers.roman import make_roman\n",
    "from be.controllers.counters import count_by_result,count_cases,count_categories,count_result_by_category"
   ]
  },
  {
   "attachments": {},
   "cell_type": "markdown",
   "metadata": {},
   "source": [
    "Load the data and set the necessary filters"
   ]
  },
  {
   "cell_type": "code",
   "execution_count": 12,
   "metadata": {},
   "outputs": [],
   "source": [
    "df=pd.read_csv(\"data/USCAP_Large.csv\")\n",
    "for col in [\"ACCESS_DATE\",\"SIGN_DATE\"]:\n",
    "    df[col]=df[col].apply(lambda z:pd.Timestamp(z))\n",
    "################################################RENAME PATHOLOGISTS\n",
    "df[\"CYTOPATHOLOGIST\"]=df[\"CYTOPATHOLOGIST\"].apply(lambda z: \"Pathologist \" + str(int(z)) if(str(z) != 'nan') else z)\n",
    "###################################### LIST OF PATHOLOGISTS\n",
    "\n",
    "pathologists=df[\"CYTOPATHOLOGIST\"].tolist()\n",
    "pathologists=[x for x in pathologists if str(x) !=\"nan\"]\n",
    "#pathologists=list(map(lambda z:int(z),pathologists))\n",
    "pathologists=list(set(pathologists))\n",
    "\n",
    "\n",
    "### In this line we set a treshold for filtering out pathologists\n",
    "# pathologists=[x for x in pathologists if df[df[\"CYTOPATHOLOGIST\"]==x].shape[0]>=200]\n",
    "\n",
    "pathologists=sorted(pathologists,key=lambda z: eval(z[11:]))\n",
    "df=df[df[\"CYTOPATHOLOGIST\"].isin(pathologists)]\n",
    "\n",
    "\n",
    "first_day=min(df[\"SIGN_DATE\"].to_list())\n",
    "last_day=max(df[\"SIGN_DATE\"].to_list())\n",
    "years=list(df[\"YEAR\"].unique())\n",
    "\n",
    "\n",
    "Default_time_ranges=dict()\n",
    "\n",
    "Default_time_ranges[\"Historical\"]=[first_day,date.today()]\n",
    "Default_time_ranges[\"2022\"]=[date(2022,1,1),date(2022,12,31)]\n",
    "Default_time_ranges[\"2021\"]=[date(2021,1,1),date(2021,12,31)]\n",
    "Default_time_ranges[\"2020\"]=[date(2020,1,1),date(2020,12,31)]\n",
    "Default_time_ranges[\"2019\"]=[date(2019,1,1),date(2019,12,31)]\n",
    "Default_time_ranges[\"2018\"]=[date(2018,1,1),date(2018,12,31)]"
   ]
  },
  {
   "cell_type": "code",
   "execution_count": 14,
   "metadata": {},
   "outputs": [
    {
     "data": {
      "text/plain": [
       "12"
      ]
     },
     "execution_count": 14,
     "metadata": {},
     "output_type": "execute_result"
    }
   ],
   "source": [
    "len(list(df[\"CYTOPATHOLOGIST\"].unique()))"
   ]
  },
  {
   "attachments": {},
   "cell_type": "markdown",
   "metadata": {},
   "source": [
    "### Here we set the names that should be used for the pathologists:\n",
    "\n"
   ]
  },
  {
   "cell_type": "code",
   "execution_count": 18,
   "metadata": {},
   "outputs": [],
   "source": [
    "naming_dict=dict()\n",
    "naming_dict[\"Pathologist 2\"]=\"SP1\"\n",
    "naming_dict[\"Pathologist 5\"]=\"SP2\"\n",
    "naming_dict[\"Pathologist 1\"]=\"JP1\"\n",
    "naming_dict[\"Pathologist 3\"]=\"JP2\"\n",
    "naming_dict[\"Pathologist 4\"]=\"JP3\"\n",
    "naming_dict[\"Pathologist 6\"]=\"JP4\"\n",
    "naming_dict[\"Pathologist 7\"]=\"JP5\"\n",
    "naming_dict[\"Pathologist 8\"]=\"JP6\"\n",
    "naming_dict[\"Pathologist 9\"]=\"JP7\"\n",
    "naming_dict[\"Pathologist 10\"]=\"JP8\"\n",
    "naming_dict[\"Pathologist 11\"]=\"JP9\"\n",
    "naming_dict[\"Pathologist 12\"]=\"JP10\"\n",
    "\n"
   ]
  },
  {
   "cell_type": "code",
   "execution_count": 19,
   "metadata": {},
   "outputs": [],
   "source": [
    "df[\"PATHOLOGIST\"]=df[\"CYTOPATHOLOGIST\"].apply(lambda z: naming_dict[z])"
   ]
  },
  {
   "attachments": {},
   "cell_type": "markdown",
   "metadata": {},
   "source": [
    "## Category distribution by pathologists"
   ]
  },
  {
   "cell_type": "code",
   "execution_count": 71,
   "metadata": {},
   "outputs": [
    {
     "data": {
      "text/plain": [
       "['Pathologist 1',\n",
       " 'Pathologist 2',\n",
       " 'Pathologist 3',\n",
       " 'Pathologist 4',\n",
       " 'Pathologist 5',\n",
       " 'Pathologist 7',\n",
       " 'Pathologist 8',\n",
       " 'Pathologist 9',\n",
       " 'Pathologist 10',\n",
       " 'Pathologist 12']"
      ]
     },
     "execution_count": 71,
     "metadata": {},
     "output_type": "execute_result"
    }
   ],
   "source": [
    "### In this line we set a treshold for filtering out pathologists\n",
    "pathologists=[x for x in pathologists if df[df[\"CYTOPATHOLOGIST\"]==x].shape[0]>=5]\n",
    "pathologists"
   ]
  },
  {
   "cell_type": "code",
   "execution_count": 73,
   "metadata": {},
   "outputs": [],
   "source": [
    "def make_stacked_bar(data_frame,labels_column,values_column,title,yaxislabel):\n",
    "    feg = px.bar( data_frame,x=labels_column, y=values_column, title=\"Wide-Form Input\",\n",
    "    color_discrete_sequence=px.colors.qualitative.T10\n",
    "    # color_discrete_sequence=[\"red\", \"green\", \"blue\", \"goldenrod\", \"magenta\",\"orange\"]\n",
    "    )\n",
    "    feg.update_layout(\n",
    "            autosize=True,\n",
    "            margin=dict(\n",
    "                l=0,\n",
    "                r=0,\n",
    "                b=0,\n",
    "                t=40,\n",
    "                pad=0\n",
    "            ),\n",
    "            # template=\"plotly_dark\",\n",
    "            title={\n",
    "            \"text\":title,\n",
    "            'y':0.98,\n",
    "            'x':0.46,\n",
    "            'xanchor': 'center',\n",
    "            'yanchor': 'top'\n",
    "            },\n",
    "            legend_title=\"\",\n",
    "            xaxis_title=None,\n",
    "            yaxis_title=yaxislabel\n",
    "            # legend_traceorder=\"reversed\",\n",
    "\n",
    "        )\n",
    "    return feg"
   ]
  },
  {
   "cell_type": "code",
   "execution_count": null,
   "metadata": {},
   "outputs": [],
   "source": []
  },
  {
   "cell_type": "code",
   "execution_count": 74,
   "metadata": {},
   "outputs": [],
   "source": [
    "############# CATEGORY RATIOS BY PATHOLOGISTS\n",
    "def count_data(all_paths_df):\n",
    "    count_data=pd.DataFrame()\n",
    "\n",
    "    count_data[\"Pathologists\"]=[naming_dict[pathologist] for pathologist in pathologists]\n",
    "    for i in range(1,7):\n",
    "        count_data[make_roman(i)]=[count_categories(all_paths_df,pathologist,i) for pathologist in pathologists]\n",
    "    count_data[\"Cases\"]=[count_cases(all_paths_df,pathologist) for pathologist in pathologists]\n",
    "    count_data[\"Positives\"]=[count_by_result(all_paths_df,pathologist,\"POSITIVE\") for pathologist in pathologists]\n",
    "    count_data[\"Currently Negative\"]=[count_by_result(all_paths_df,pathologist,\"CURRENTLY NEGATIVE\") for pathologist in pathologists]\n",
    "    count_data[\"Positives or CN\"]=count_data[\"Positives\"]+count_data[\"Currently Negative\"]\n",
    "    count_data[\"positive_rate\"]=count_data[\"Positives or CN\"]/count_data[\"Cases\"]\n",
    "    count_data[\"positive_rate\"]=count_data[\"positive_rate\"].apply(lambda z:round(z,2))\n",
    "    for i in range(1,7):\n",
    "        count_data[\"TBS \"+make_roman(i)]=count_data[make_roman(i)]/count_data[\"Cases\"]\n",
    "        count_data[\"TBS \"+make_roman(i)]=count_data[\"TBS \"+make_roman(i)].apply(lambda z:round(z,2))\n",
    "    # count_data[\"Pathologists\"]=pathologists\n",
    "\n",
    "    count_data[\"TBS III Positives\"]=[count_result_by_category(df,pathologist,3,\"POSITIVE\") for pathologist in pathologists]\n",
    "    count_data[\"TBS III + Rate\"]=round(count_data[\"TBS III Positives\"]/count_data[\"III\"],2)\n",
    "    new_row=dict()\n",
    "    new_row[\"Pathologists\"]=[\"Overall\"]\n",
    "    new_row[\"Cases\"]=[count_data[\"Cases\"].sum()]\n",
    "    for i in range(1,7):\n",
    "        new_row[make_roman(i)]=[count_data[make_roman(i)].sum()]\n",
    "    for i in range(1,7):\n",
    "        new_row[\"ratio category \"+make_roman(i)]=[new_row[make_roman(i)][0]/new_row[\"Cases\"][0]]\n",
    "    new_row[\"Positives\"]=[count_data[\"Positives\"].sum()]\n",
    "    new_row[\"positive_rate\"]=[count_data[\"Positives\"].sum()/count_data[\"Cases\"].sum()]\n",
    "    new_row[\"TBS III Positives\"]=[count_data[\"TBS III Positives\"].sum()]\n",
    "    new_row[\"TBS III + Rate\"]=[round(count_data[\"TBS III Positives\"].sum()/count_data[\"III\"].sum(),2)]\n",
    "    for i in range(1,7):\n",
    "        new_row[\"TBS \"+ make_roman(i)]=[round(count_data[make_roman(i)].sum()/count_data[\"Cases\"].sum(),2)]\n",
    "\n",
    "    new_row=pd.DataFrame.from_dict(new_row)\n",
    "    count_data=pd.concat([count_data,new_row])\n",
    "    count_data[\"TBS III Call Rate\"]=count_data[\"TBS III\"]\n",
    "    return count_data"
   ]
  },
  {
   "cell_type": "code",
   "execution_count": 75,
   "metadata": {},
   "outputs": [],
   "source": [
    "data=count_data(df)"
   ]
  },
  {
   "cell_type": "code",
   "execution_count": 76,
   "metadata": {},
   "outputs": [
    {
     "data": {
      "text/html": [
       "<div>\n",
       "<style scoped>\n",
       "    .dataframe tbody tr th:only-of-type {\n",
       "        vertical-align: middle;\n",
       "    }\n",
       "\n",
       "    .dataframe tbody tr th {\n",
       "        vertical-align: top;\n",
       "    }\n",
       "\n",
       "    .dataframe thead th {\n",
       "        text-align: right;\n",
       "    }\n",
       "</style>\n",
       "<table border=\"1\" class=\"dataframe\">\n",
       "  <thead>\n",
       "    <tr style=\"text-align: right;\">\n",
       "      <th></th>\n",
       "      <th>Pathologists</th>\n",
       "      <th>I</th>\n",
       "      <th>II</th>\n",
       "      <th>III</th>\n",
       "      <th>IV</th>\n",
       "      <th>V</th>\n",
       "      <th>VI</th>\n",
       "      <th>Cases</th>\n",
       "      <th>Positives</th>\n",
       "      <th>Currently Negative</th>\n",
       "      <th>...</th>\n",
       "      <th>TBS VI</th>\n",
       "      <th>TBS III Positives</th>\n",
       "      <th>TBS III + Rate</th>\n",
       "      <th>ratio category I</th>\n",
       "      <th>ratio category II</th>\n",
       "      <th>ratio category III</th>\n",
       "      <th>ratio category IV</th>\n",
       "      <th>ratio category V</th>\n",
       "      <th>ratio category VI</th>\n",
       "      <th>TBS III Call Rate</th>\n",
       "    </tr>\n",
       "  </thead>\n",
       "  <tbody>\n",
       "    <tr>\n",
       "      <th>0</th>\n",
       "      <td>JP1</td>\n",
       "      <td>6</td>\n",
       "      <td>44</td>\n",
       "      <td>17</td>\n",
       "      <td>2</td>\n",
       "      <td>0</td>\n",
       "      <td>2</td>\n",
       "      <td>71</td>\n",
       "      <td>6</td>\n",
       "      <td>3.0</td>\n",
       "      <td>...</td>\n",
       "      <td>0.03</td>\n",
       "      <td>4</td>\n",
       "      <td>0.24</td>\n",
       "      <td>NaN</td>\n",
       "      <td>NaN</td>\n",
       "      <td>NaN</td>\n",
       "      <td>NaN</td>\n",
       "      <td>NaN</td>\n",
       "      <td>NaN</td>\n",
       "      <td>0.24</td>\n",
       "    </tr>\n",
       "    <tr>\n",
       "      <th>1</th>\n",
       "      <td>SP1</td>\n",
       "      <td>109</td>\n",
       "      <td>835</td>\n",
       "      <td>132</td>\n",
       "      <td>14</td>\n",
       "      <td>6</td>\n",
       "      <td>39</td>\n",
       "      <td>1135</td>\n",
       "      <td>42</td>\n",
       "      <td>21.0</td>\n",
       "      <td>...</td>\n",
       "      <td>0.03</td>\n",
       "      <td>34</td>\n",
       "      <td>0.26</td>\n",
       "      <td>NaN</td>\n",
       "      <td>NaN</td>\n",
       "      <td>NaN</td>\n",
       "      <td>NaN</td>\n",
       "      <td>NaN</td>\n",
       "      <td>NaN</td>\n",
       "      <td>0.12</td>\n",
       "    </tr>\n",
       "    <tr>\n",
       "      <th>2</th>\n",
       "      <td>JP2</td>\n",
       "      <td>11</td>\n",
       "      <td>90</td>\n",
       "      <td>23</td>\n",
       "      <td>3</td>\n",
       "      <td>0</td>\n",
       "      <td>6</td>\n",
       "      <td>133</td>\n",
       "      <td>3</td>\n",
       "      <td>1.0</td>\n",
       "      <td>...</td>\n",
       "      <td>0.05</td>\n",
       "      <td>2</td>\n",
       "      <td>0.09</td>\n",
       "      <td>NaN</td>\n",
       "      <td>NaN</td>\n",
       "      <td>NaN</td>\n",
       "      <td>NaN</td>\n",
       "      <td>NaN</td>\n",
       "      <td>NaN</td>\n",
       "      <td>0.17</td>\n",
       "    </tr>\n",
       "    <tr>\n",
       "      <th>3</th>\n",
       "      <td>JP3</td>\n",
       "      <td>6</td>\n",
       "      <td>51</td>\n",
       "      <td>8</td>\n",
       "      <td>0</td>\n",
       "      <td>1</td>\n",
       "      <td>2</td>\n",
       "      <td>68</td>\n",
       "      <td>0</td>\n",
       "      <td>0.0</td>\n",
       "      <td>...</td>\n",
       "      <td>0.03</td>\n",
       "      <td>0</td>\n",
       "      <td>0.00</td>\n",
       "      <td>NaN</td>\n",
       "      <td>NaN</td>\n",
       "      <td>NaN</td>\n",
       "      <td>NaN</td>\n",
       "      <td>NaN</td>\n",
       "      <td>NaN</td>\n",
       "      <td>0.12</td>\n",
       "    </tr>\n",
       "    <tr>\n",
       "      <th>4</th>\n",
       "      <td>SP2</td>\n",
       "      <td>101</td>\n",
       "      <td>707</td>\n",
       "      <td>329</td>\n",
       "      <td>21</td>\n",
       "      <td>7</td>\n",
       "      <td>59</td>\n",
       "      <td>1224</td>\n",
       "      <td>77</td>\n",
       "      <td>43.0</td>\n",
       "      <td>...</td>\n",
       "      <td>0.05</td>\n",
       "      <td>64</td>\n",
       "      <td>0.19</td>\n",
       "      <td>NaN</td>\n",
       "      <td>NaN</td>\n",
       "      <td>NaN</td>\n",
       "      <td>NaN</td>\n",
       "      <td>NaN</td>\n",
       "      <td>NaN</td>\n",
       "      <td>0.27</td>\n",
       "    </tr>\n",
       "  </tbody>\n",
       "</table>\n",
       "<p>5 rows × 27 columns</p>\n",
       "</div>"
      ],
      "text/plain": [
       "  Pathologists    I   II  III  IV  V  VI  Cases  Positives  \\\n",
       "0          JP1    6   44   17   2  0   2     71          6   \n",
       "1          SP1  109  835  132  14  6  39   1135         42   \n",
       "2          JP2   11   90   23   3  0   6    133          3   \n",
       "3          JP3    6   51    8   0  1   2     68          0   \n",
       "4          SP2  101  707  329  21  7  59   1224         77   \n",
       "\n",
       "   Currently Negative  ...  TBS VI  TBS III Positives  TBS III + Rate  \\\n",
       "0                 3.0  ...    0.03                  4            0.24   \n",
       "1                21.0  ...    0.03                 34            0.26   \n",
       "2                 1.0  ...    0.05                  2            0.09   \n",
       "3                 0.0  ...    0.03                  0            0.00   \n",
       "4                43.0  ...    0.05                 64            0.19   \n",
       "\n",
       "   ratio category I  ratio category II  ratio category III  ratio category IV  \\\n",
       "0               NaN                NaN                 NaN                NaN   \n",
       "1               NaN                NaN                 NaN                NaN   \n",
       "2               NaN                NaN                 NaN                NaN   \n",
       "3               NaN                NaN                 NaN                NaN   \n",
       "4               NaN                NaN                 NaN                NaN   \n",
       "\n",
       "   ratio category V  ratio category VI  TBS III Call Rate  \n",
       "0               NaN                NaN               0.24  \n",
       "1               NaN                NaN               0.12  \n",
       "2               NaN                NaN               0.17  \n",
       "3               NaN                NaN               0.12  \n",
       "4               NaN                NaN               0.27  \n",
       "\n",
       "[5 rows x 27 columns]"
      ]
     },
     "execution_count": 76,
     "metadata": {},
     "output_type": "execute_result"
    }
   ],
   "source": [
    "data.head()"
   ]
  },
  {
   "cell_type": "code",
   "execution_count": 77,
   "metadata": {},
   "outputs": [],
   "source": [
    "def compare_ratios(dataframe):\n",
    "        return make_stacked_bar(dataframe,\"Pathologists\",[\"TBS \"+make_roman(i)  for i in range(1,7)], \"Category Distribution By Pathologist\",\"Rate\")"
   ]
  },
  {
   "cell_type": "code",
   "execution_count": null,
   "metadata": {},
   "outputs": [],
   "source": [
    "### In this line we set a treshold for filtering out pathologists\n",
    "# pathologists=[x for x in pathologists if df[df[\"CYTOPATHOLOGIST\"]==x].shape[0]>=200]"
   ]
  },
  {
   "cell_type": "code",
   "execution_count": 78,
   "metadata": {},
   "outputs": [],
   "source": [
    "counting_data=count_data(df)"
   ]
  },
  {
   "cell_type": "code",
   "execution_count": 79,
   "metadata": {},
   "outputs": [
    {
     "data": {
      "application/vnd.plotly.v1+json": {
       "config": {
        "plotlyServerURL": "https://plot.ly"
       },
       "data": [
        {
         "alignmentgroup": "True",
         "hovertemplate": "variable=TBS I<br>Pathologists=%{x}<br>value=%{y}<extra></extra>",
         "legendgroup": "TBS I",
         "marker": {
          "color": "#4C78A8",
          "pattern": {
           "shape": ""
          }
         },
         "name": "TBS I",
         "offsetgroup": "TBS I",
         "orientation": "v",
         "showlegend": true,
         "textposition": "auto",
         "type": "bar",
         "x": [
          "JP1",
          "SP1",
          "JP2",
          "JP3",
          "SP2",
          "JP5",
          "JP6",
          "JP7",
          "JP8",
          "JP10",
          "All pathologists"
         ],
         "xaxis": "x",
         "y": [
          0.08,
          0.1,
          0.08,
          0.09,
          0.08,
          0.03,
          0.08,
          0.06,
          0.02,
          0.09,
          0.08
         ],
         "yaxis": "y"
        },
        {
         "alignmentgroup": "True",
         "hovertemplate": "variable=TBS II<br>Pathologists=%{x}<br>value=%{y}<extra></extra>",
         "legendgroup": "TBS II",
         "marker": {
          "color": "#F58518",
          "pattern": {
           "shape": ""
          }
         },
         "name": "TBS II",
         "offsetgroup": "TBS II",
         "orientation": "v",
         "showlegend": true,
         "textposition": "auto",
         "type": "bar",
         "x": [
          "JP1",
          "SP1",
          "JP2",
          "JP3",
          "SP2",
          "JP5",
          "JP6",
          "JP7",
          "JP8",
          "JP10",
          "All pathologists"
         ],
         "xaxis": "x",
         "y": [
          0.62,
          0.74,
          0.68,
          0.75,
          0.58,
          0.8,
          0.73,
          0.71,
          0.49,
          0.64,
          0.69
         ],
         "yaxis": "y"
        },
        {
         "alignmentgroup": "True",
         "hovertemplate": "variable=TBS III<br>Pathologists=%{x}<br>value=%{y}<extra></extra>",
         "legendgroup": "TBS III",
         "marker": {
          "color": "#E45756",
          "pattern": {
           "shape": ""
          }
         },
         "name": "TBS III",
         "offsetgroup": "TBS III",
         "orientation": "v",
         "showlegend": true,
         "textposition": "auto",
         "type": "bar",
         "x": [
          "JP1",
          "SP1",
          "JP2",
          "JP3",
          "SP2",
          "JP5",
          "JP6",
          "JP7",
          "JP8",
          "JP10",
          "All pathologists"
         ],
         "xaxis": "x",
         "y": [
          0.24,
          0.12,
          0.17,
          0.12,
          0.27,
          0.1,
          0.16,
          0.17,
          0.37,
          0.2,
          0.17
         ],
         "yaxis": "y"
        },
        {
         "alignmentgroup": "True",
         "hovertemplate": "variable=TBS IV<br>Pathologists=%{x}<br>value=%{y}<extra></extra>",
         "legendgroup": "TBS IV",
         "marker": {
          "color": "#72B7B2",
          "pattern": {
           "shape": ""
          }
         },
         "name": "TBS IV",
         "offsetgroup": "TBS IV",
         "orientation": "v",
         "showlegend": true,
         "textposition": "auto",
         "type": "bar",
         "x": [
          "JP1",
          "SP1",
          "JP2",
          "JP3",
          "SP2",
          "JP5",
          "JP6",
          "JP7",
          "JP8",
          "JP10",
          "All pathologists"
         ],
         "xaxis": "x",
         "y": [
          0.03,
          0.01,
          0.02,
          0,
          0.02,
          0.02,
          0.01,
          0.01,
          0.04,
          0.01,
          0.01
         ],
         "yaxis": "y"
        },
        {
         "alignmentgroup": "True",
         "hovertemplate": "variable=TBS V<br>Pathologists=%{x}<br>value=%{y}<extra></extra>",
         "legendgroup": "TBS V",
         "marker": {
          "color": "#54A24B",
          "pattern": {
           "shape": ""
          }
         },
         "name": "TBS V",
         "offsetgroup": "TBS V",
         "orientation": "v",
         "showlegend": true,
         "textposition": "auto",
         "type": "bar",
         "x": [
          "JP1",
          "SP1",
          "JP2",
          "JP3",
          "SP2",
          "JP5",
          "JP6",
          "JP7",
          "JP8",
          "JP10",
          "All pathologists"
         ],
         "xaxis": "x",
         "y": [
          0,
          0.01,
          0,
          0.01,
          0.01,
          0.01,
          0.01,
          0.01,
          0,
          0.01,
          0.01
         ],
         "yaxis": "y"
        },
        {
         "alignmentgroup": "True",
         "hovertemplate": "variable=TBS VI<br>Pathologists=%{x}<br>value=%{y}<extra></extra>",
         "legendgroup": "TBS VI",
         "marker": {
          "color": "#EECA3B",
          "pattern": {
           "shape": ""
          }
         },
         "name": "TBS VI",
         "offsetgroup": "TBS VI",
         "orientation": "v",
         "showlegend": true,
         "textposition": "auto",
         "type": "bar",
         "x": [
          "JP1",
          "SP1",
          "JP2",
          "JP3",
          "SP2",
          "JP5",
          "JP6",
          "JP7",
          "JP8",
          "JP10",
          "All pathologists"
         ],
         "xaxis": "x",
         "y": [
          0.03,
          0.03,
          0.05,
          0.03,
          0.05,
          0.04,
          0.03,
          0.04,
          0.09,
          0.04,
          0.04
         ],
         "yaxis": "y"
        }
       ],
       "layout": {
        "autosize": true,
        "barmode": "relative",
        "legend": {
         "title": {
          "text": ""
         },
         "tracegroupgap": 0
        },
        "margin": {
         "b": 0,
         "l": 0,
         "pad": 0,
         "r": 0,
         "t": 40
        },
        "template": {
         "data": {
          "bar": [
           {
            "error_x": {
             "color": "#2a3f5f"
            },
            "error_y": {
             "color": "#2a3f5f"
            },
            "marker": {
             "line": {
              "color": "#E5ECF6",
              "width": 0.5
             },
             "pattern": {
              "fillmode": "overlay",
              "size": 10,
              "solidity": 0.2
             }
            },
            "type": "bar"
           }
          ],
          "barpolar": [
           {
            "marker": {
             "line": {
              "color": "#E5ECF6",
              "width": 0.5
             },
             "pattern": {
              "fillmode": "overlay",
              "size": 10,
              "solidity": 0.2
             }
            },
            "type": "barpolar"
           }
          ],
          "carpet": [
           {
            "aaxis": {
             "endlinecolor": "#2a3f5f",
             "gridcolor": "white",
             "linecolor": "white",
             "minorgridcolor": "white",
             "startlinecolor": "#2a3f5f"
            },
            "baxis": {
             "endlinecolor": "#2a3f5f",
             "gridcolor": "white",
             "linecolor": "white",
             "minorgridcolor": "white",
             "startlinecolor": "#2a3f5f"
            },
            "type": "carpet"
           }
          ],
          "choropleth": [
           {
            "colorbar": {
             "outlinewidth": 0,
             "ticks": ""
            },
            "type": "choropleth"
           }
          ],
          "contour": [
           {
            "colorbar": {
             "outlinewidth": 0,
             "ticks": ""
            },
            "colorscale": [
             [
              0,
              "#0d0887"
             ],
             [
              0.1111111111111111,
              "#46039f"
             ],
             [
              0.2222222222222222,
              "#7201a8"
             ],
             [
              0.3333333333333333,
              "#9c179e"
             ],
             [
              0.4444444444444444,
              "#bd3786"
             ],
             [
              0.5555555555555556,
              "#d8576b"
             ],
             [
              0.6666666666666666,
              "#ed7953"
             ],
             [
              0.7777777777777778,
              "#fb9f3a"
             ],
             [
              0.8888888888888888,
              "#fdca26"
             ],
             [
              1,
              "#f0f921"
             ]
            ],
            "type": "contour"
           }
          ],
          "contourcarpet": [
           {
            "colorbar": {
             "outlinewidth": 0,
             "ticks": ""
            },
            "type": "contourcarpet"
           }
          ],
          "heatmap": [
           {
            "colorbar": {
             "outlinewidth": 0,
             "ticks": ""
            },
            "colorscale": [
             [
              0,
              "#0d0887"
             ],
             [
              0.1111111111111111,
              "#46039f"
             ],
             [
              0.2222222222222222,
              "#7201a8"
             ],
             [
              0.3333333333333333,
              "#9c179e"
             ],
             [
              0.4444444444444444,
              "#bd3786"
             ],
             [
              0.5555555555555556,
              "#d8576b"
             ],
             [
              0.6666666666666666,
              "#ed7953"
             ],
             [
              0.7777777777777778,
              "#fb9f3a"
             ],
             [
              0.8888888888888888,
              "#fdca26"
             ],
             [
              1,
              "#f0f921"
             ]
            ],
            "type": "heatmap"
           }
          ],
          "heatmapgl": [
           {
            "colorbar": {
             "outlinewidth": 0,
             "ticks": ""
            },
            "colorscale": [
             [
              0,
              "#0d0887"
             ],
             [
              0.1111111111111111,
              "#46039f"
             ],
             [
              0.2222222222222222,
              "#7201a8"
             ],
             [
              0.3333333333333333,
              "#9c179e"
             ],
             [
              0.4444444444444444,
              "#bd3786"
             ],
             [
              0.5555555555555556,
              "#d8576b"
             ],
             [
              0.6666666666666666,
              "#ed7953"
             ],
             [
              0.7777777777777778,
              "#fb9f3a"
             ],
             [
              0.8888888888888888,
              "#fdca26"
             ],
             [
              1,
              "#f0f921"
             ]
            ],
            "type": "heatmapgl"
           }
          ],
          "histogram": [
           {
            "marker": {
             "pattern": {
              "fillmode": "overlay",
              "size": 10,
              "solidity": 0.2
             }
            },
            "type": "histogram"
           }
          ],
          "histogram2d": [
           {
            "colorbar": {
             "outlinewidth": 0,
             "ticks": ""
            },
            "colorscale": [
             [
              0,
              "#0d0887"
             ],
             [
              0.1111111111111111,
              "#46039f"
             ],
             [
              0.2222222222222222,
              "#7201a8"
             ],
             [
              0.3333333333333333,
              "#9c179e"
             ],
             [
              0.4444444444444444,
              "#bd3786"
             ],
             [
              0.5555555555555556,
              "#d8576b"
             ],
             [
              0.6666666666666666,
              "#ed7953"
             ],
             [
              0.7777777777777778,
              "#fb9f3a"
             ],
             [
              0.8888888888888888,
              "#fdca26"
             ],
             [
              1,
              "#f0f921"
             ]
            ],
            "type": "histogram2d"
           }
          ],
          "histogram2dcontour": [
           {
            "colorbar": {
             "outlinewidth": 0,
             "ticks": ""
            },
            "colorscale": [
             [
              0,
              "#0d0887"
             ],
             [
              0.1111111111111111,
              "#46039f"
             ],
             [
              0.2222222222222222,
              "#7201a8"
             ],
             [
              0.3333333333333333,
              "#9c179e"
             ],
             [
              0.4444444444444444,
              "#bd3786"
             ],
             [
              0.5555555555555556,
              "#d8576b"
             ],
             [
              0.6666666666666666,
              "#ed7953"
             ],
             [
              0.7777777777777778,
              "#fb9f3a"
             ],
             [
              0.8888888888888888,
              "#fdca26"
             ],
             [
              1,
              "#f0f921"
             ]
            ],
            "type": "histogram2dcontour"
           }
          ],
          "mesh3d": [
           {
            "colorbar": {
             "outlinewidth": 0,
             "ticks": ""
            },
            "type": "mesh3d"
           }
          ],
          "parcoords": [
           {
            "line": {
             "colorbar": {
              "outlinewidth": 0,
              "ticks": ""
             }
            },
            "type": "parcoords"
           }
          ],
          "pie": [
           {
            "automargin": true,
            "type": "pie"
           }
          ],
          "scatter": [
           {
            "fillpattern": {
             "fillmode": "overlay",
             "size": 10,
             "solidity": 0.2
            },
            "type": "scatter"
           }
          ],
          "scatter3d": [
           {
            "line": {
             "colorbar": {
              "outlinewidth": 0,
              "ticks": ""
             }
            },
            "marker": {
             "colorbar": {
              "outlinewidth": 0,
              "ticks": ""
             }
            },
            "type": "scatter3d"
           }
          ],
          "scattercarpet": [
           {
            "marker": {
             "colorbar": {
              "outlinewidth": 0,
              "ticks": ""
             }
            },
            "type": "scattercarpet"
           }
          ],
          "scattergeo": [
           {
            "marker": {
             "colorbar": {
              "outlinewidth": 0,
              "ticks": ""
             }
            },
            "type": "scattergeo"
           }
          ],
          "scattergl": [
           {
            "marker": {
             "colorbar": {
              "outlinewidth": 0,
              "ticks": ""
             }
            },
            "type": "scattergl"
           }
          ],
          "scattermapbox": [
           {
            "marker": {
             "colorbar": {
              "outlinewidth": 0,
              "ticks": ""
             }
            },
            "type": "scattermapbox"
           }
          ],
          "scatterpolar": [
           {
            "marker": {
             "colorbar": {
              "outlinewidth": 0,
              "ticks": ""
             }
            },
            "type": "scatterpolar"
           }
          ],
          "scatterpolargl": [
           {
            "marker": {
             "colorbar": {
              "outlinewidth": 0,
              "ticks": ""
             }
            },
            "type": "scatterpolargl"
           }
          ],
          "scatterternary": [
           {
            "marker": {
             "colorbar": {
              "outlinewidth": 0,
              "ticks": ""
             }
            },
            "type": "scatterternary"
           }
          ],
          "surface": [
           {
            "colorbar": {
             "outlinewidth": 0,
             "ticks": ""
            },
            "colorscale": [
             [
              0,
              "#0d0887"
             ],
             [
              0.1111111111111111,
              "#46039f"
             ],
             [
              0.2222222222222222,
              "#7201a8"
             ],
             [
              0.3333333333333333,
              "#9c179e"
             ],
             [
              0.4444444444444444,
              "#bd3786"
             ],
             [
              0.5555555555555556,
              "#d8576b"
             ],
             [
              0.6666666666666666,
              "#ed7953"
             ],
             [
              0.7777777777777778,
              "#fb9f3a"
             ],
             [
              0.8888888888888888,
              "#fdca26"
             ],
             [
              1,
              "#f0f921"
             ]
            ],
            "type": "surface"
           }
          ],
          "table": [
           {
            "cells": {
             "fill": {
              "color": "#EBF0F8"
             },
             "line": {
              "color": "white"
             }
            },
            "header": {
             "fill": {
              "color": "#C8D4E3"
             },
             "line": {
              "color": "white"
             }
            },
            "type": "table"
           }
          ]
         },
         "layout": {
          "annotationdefaults": {
           "arrowcolor": "#2a3f5f",
           "arrowhead": 0,
           "arrowwidth": 1
          },
          "autotypenumbers": "strict",
          "coloraxis": {
           "colorbar": {
            "outlinewidth": 0,
            "ticks": ""
           }
          },
          "colorscale": {
           "diverging": [
            [
             0,
             "#8e0152"
            ],
            [
             0.1,
             "#c51b7d"
            ],
            [
             0.2,
             "#de77ae"
            ],
            [
             0.3,
             "#f1b6da"
            ],
            [
             0.4,
             "#fde0ef"
            ],
            [
             0.5,
             "#f7f7f7"
            ],
            [
             0.6,
             "#e6f5d0"
            ],
            [
             0.7,
             "#b8e186"
            ],
            [
             0.8,
             "#7fbc41"
            ],
            [
             0.9,
             "#4d9221"
            ],
            [
             1,
             "#276419"
            ]
           ],
           "sequential": [
            [
             0,
             "#0d0887"
            ],
            [
             0.1111111111111111,
             "#46039f"
            ],
            [
             0.2222222222222222,
             "#7201a8"
            ],
            [
             0.3333333333333333,
             "#9c179e"
            ],
            [
             0.4444444444444444,
             "#bd3786"
            ],
            [
             0.5555555555555556,
             "#d8576b"
            ],
            [
             0.6666666666666666,
             "#ed7953"
            ],
            [
             0.7777777777777778,
             "#fb9f3a"
            ],
            [
             0.8888888888888888,
             "#fdca26"
            ],
            [
             1,
             "#f0f921"
            ]
           ],
           "sequentialminus": [
            [
             0,
             "#0d0887"
            ],
            [
             0.1111111111111111,
             "#46039f"
            ],
            [
             0.2222222222222222,
             "#7201a8"
            ],
            [
             0.3333333333333333,
             "#9c179e"
            ],
            [
             0.4444444444444444,
             "#bd3786"
            ],
            [
             0.5555555555555556,
             "#d8576b"
            ],
            [
             0.6666666666666666,
             "#ed7953"
            ],
            [
             0.7777777777777778,
             "#fb9f3a"
            ],
            [
             0.8888888888888888,
             "#fdca26"
            ],
            [
             1,
             "#f0f921"
            ]
           ]
          },
          "colorway": [
           "#636efa",
           "#EF553B",
           "#00cc96",
           "#ab63fa",
           "#FFA15A",
           "#19d3f3",
           "#FF6692",
           "#B6E880",
           "#FF97FF",
           "#FECB52"
          ],
          "font": {
           "color": "#2a3f5f"
          },
          "geo": {
           "bgcolor": "white",
           "lakecolor": "white",
           "landcolor": "#E5ECF6",
           "showlakes": true,
           "showland": true,
           "subunitcolor": "white"
          },
          "hoverlabel": {
           "align": "left"
          },
          "hovermode": "closest",
          "mapbox": {
           "style": "light"
          },
          "paper_bgcolor": "white",
          "plot_bgcolor": "#E5ECF6",
          "polar": {
           "angularaxis": {
            "gridcolor": "white",
            "linecolor": "white",
            "ticks": ""
           },
           "bgcolor": "#E5ECF6",
           "radialaxis": {
            "gridcolor": "white",
            "linecolor": "white",
            "ticks": ""
           }
          },
          "scene": {
           "xaxis": {
            "backgroundcolor": "#E5ECF6",
            "gridcolor": "white",
            "gridwidth": 2,
            "linecolor": "white",
            "showbackground": true,
            "ticks": "",
            "zerolinecolor": "white"
           },
           "yaxis": {
            "backgroundcolor": "#E5ECF6",
            "gridcolor": "white",
            "gridwidth": 2,
            "linecolor": "white",
            "showbackground": true,
            "ticks": "",
            "zerolinecolor": "white"
           },
           "zaxis": {
            "backgroundcolor": "#E5ECF6",
            "gridcolor": "white",
            "gridwidth": 2,
            "linecolor": "white",
            "showbackground": true,
            "ticks": "",
            "zerolinecolor": "white"
           }
          },
          "shapedefaults": {
           "line": {
            "color": "#2a3f5f"
           }
          },
          "ternary": {
           "aaxis": {
            "gridcolor": "white",
            "linecolor": "white",
            "ticks": ""
           },
           "baxis": {
            "gridcolor": "white",
            "linecolor": "white",
            "ticks": ""
           },
           "bgcolor": "#E5ECF6",
           "caxis": {
            "gridcolor": "white",
            "linecolor": "white",
            "ticks": ""
           }
          },
          "title": {
           "x": 0.05
          },
          "xaxis": {
           "automargin": true,
           "gridcolor": "white",
           "linecolor": "white",
           "ticks": "",
           "title": {
            "standoff": 15
           },
           "zerolinecolor": "white",
           "zerolinewidth": 2
          },
          "yaxis": {
           "automargin": true,
           "gridcolor": "white",
           "linecolor": "white",
           "ticks": "",
           "title": {
            "standoff": 15
           },
           "zerolinecolor": "white",
           "zerolinewidth": 2
          }
         }
        },
        "title": {
         "text": "Category Distribution By Pathologist",
         "x": 0.46,
         "xanchor": "center",
         "y": 0.98,
         "yanchor": "top"
        },
        "xaxis": {
         "anchor": "y",
         "domain": [
          0,
          1
         ],
         "title": {}
        },
        "yaxis": {
         "anchor": "x",
         "domain": [
          0,
          1
         ],
         "title": {
          "text": "Rate"
         }
        }
       }
      }
     },
     "metadata": {},
     "output_type": "display_data"
    }
   ],
   "source": [
    "compare_ratios(counting_data)"
   ]
  }
 ],
 "metadata": {
  "kernelspec": {
   "display_name": "dash_tutorial",
   "language": "python",
   "name": "python3"
  },
  "language_info": {
   "codemirror_mode": {
    "name": "ipython",
    "version": 3
   },
   "file_extension": ".py",
   "mimetype": "text/x-python",
   "name": "python",
   "nbconvert_exporter": "python",
   "pygments_lexer": "ipython3",
   "version": "3.10.8"
  },
  "orig_nbformat": 4
 },
 "nbformat": 4,
 "nbformat_minor": 2
}
