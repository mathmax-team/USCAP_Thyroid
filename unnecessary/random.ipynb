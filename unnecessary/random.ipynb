{
 "cells": [
  {
   "cell_type": "code",
   "execution_count": 1,
   "metadata": {},
   "outputs": [],
   "source": [
    "import pandas as pd"
   ]
  },
  {
   "cell_type": "code",
   "execution_count": 2,
   "metadata": {},
   "outputs": [],
   "source": [
    "from be.controllers.gap_minder_data import make_gap_minder_data"
   ]
  },
  {
   "cell_type": "code",
   "execution_count": 3,
   "metadata": {},
   "outputs": [],
   "source": [
    "from be.controllers.default_times_ranges import pathologists,df"
   ]
  },
  {
   "cell_type": "code",
   "execution_count": 4,
   "metadata": {},
   "outputs": [],
   "source": [
    "gap_minder_data=make_gap_minder_data(df)"
   ]
  },
  {
   "cell_type": "code",
   "execution_count": 5,
   "metadata": {},
   "outputs": [
    {
     "data": {
      "text/html": [
       "<div>\n",
       "<style scoped>\n",
       "    .dataframe tbody tr th:only-of-type {\n",
       "        vertical-align: middle;\n",
       "    }\n",
       "\n",
       "    .dataframe tbody tr th {\n",
       "        vertical-align: top;\n",
       "    }\n",
       "\n",
       "    .dataframe thead th {\n",
       "        text-align: right;\n",
       "    }\n",
       "</style>\n",
       "<table border=\"1\" class=\"dataframe\">\n",
       "  <thead>\n",
       "    <tr style=\"text-align: right;\">\n",
       "      <th></th>\n",
       "      <th>Pathologist</th>\n",
       "      <th>Year</th>\n",
       "      <th>Case Count</th>\n",
       "      <th>Call rate category III</th>\n",
       "      <th>Positive rate category III</th>\n",
       "    </tr>\n",
       "  </thead>\n",
       "  <tbody>\n",
       "    <tr>\n",
       "      <th>0</th>\n",
       "      <td>Pathologist 2</td>\n",
       "      <td>2018</td>\n",
       "      <td>491</td>\n",
       "      <td>0.128310</td>\n",
       "      <td>0.222222</td>\n",
       "    </tr>\n",
       "    <tr>\n",
       "      <th>1</th>\n",
       "      <td>Pathologist 5</td>\n",
       "      <td>2018</td>\n",
       "      <td>232</td>\n",
       "      <td>0.379310</td>\n",
       "      <td>0.147727</td>\n",
       "    </tr>\n",
       "    <tr>\n",
       "      <th>2</th>\n",
       "      <td>Pathologist 7</td>\n",
       "      <td>2018</td>\n",
       "      <td>4</td>\n",
       "      <td>0.500000</td>\n",
       "      <td>0.000000</td>\n",
       "    </tr>\n",
       "    <tr>\n",
       "      <th>3</th>\n",
       "      <td>Pathologist 8</td>\n",
       "      <td>2018</td>\n",
       "      <td>480</td>\n",
       "      <td>0.139583</td>\n",
       "      <td>0.298507</td>\n",
       "    </tr>\n",
       "    <tr>\n",
       "      <th>4</th>\n",
       "      <td>Pathologist 9</td>\n",
       "      <td>2018</td>\n",
       "      <td>85</td>\n",
       "      <td>0.129412</td>\n",
       "      <td>0.272727</td>\n",
       "    </tr>\n",
       "    <tr>\n",
       "      <th>5</th>\n",
       "      <td>Pathologist 2</td>\n",
       "      <td>2019</td>\n",
       "      <td>358</td>\n",
       "      <td>0.094972</td>\n",
       "      <td>0.323529</td>\n",
       "    </tr>\n",
       "    <tr>\n",
       "      <th>6</th>\n",
       "      <td>Pathologist 5</td>\n",
       "      <td>2019</td>\n",
       "      <td>425</td>\n",
       "      <td>0.230588</td>\n",
       "      <td>0.214286</td>\n",
       "    </tr>\n",
       "    <tr>\n",
       "      <th>7</th>\n",
       "      <td>Pathologist 7</td>\n",
       "      <td>2019</td>\n",
       "      <td>229</td>\n",
       "      <td>0.065502</td>\n",
       "      <td>0.400000</td>\n",
       "    </tr>\n",
       "    <tr>\n",
       "      <th>8</th>\n",
       "      <td>Pathologist 8</td>\n",
       "      <td>2019</td>\n",
       "      <td>358</td>\n",
       "      <td>0.131285</td>\n",
       "      <td>0.361702</td>\n",
       "    </tr>\n",
       "    <tr>\n",
       "      <th>9</th>\n",
       "      <td>Pathologist 9</td>\n",
       "      <td>2019</td>\n",
       "      <td>114</td>\n",
       "      <td>0.157895</td>\n",
       "      <td>0.388889</td>\n",
       "    </tr>\n",
       "    <tr>\n",
       "      <th>10</th>\n",
       "      <td>Pathologist 12</td>\n",
       "      <td>2019</td>\n",
       "      <td>267</td>\n",
       "      <td>0.329588</td>\n",
       "      <td>0.170455</td>\n",
       "    </tr>\n",
       "    <tr>\n",
       "      <th>11</th>\n",
       "      <td>Pathologist 2</td>\n",
       "      <td>2020</td>\n",
       "      <td>99</td>\n",
       "      <td>0.101010</td>\n",
       "      <td>0.300000</td>\n",
       "    </tr>\n",
       "    <tr>\n",
       "      <th>12</th>\n",
       "      <td>Pathologist 5</td>\n",
       "      <td>2020</td>\n",
       "      <td>250</td>\n",
       "      <td>0.276000</td>\n",
       "      <td>0.217391</td>\n",
       "    </tr>\n",
       "    <tr>\n",
       "      <th>13</th>\n",
       "      <td>Pathologist 7</td>\n",
       "      <td>2020</td>\n",
       "      <td>242</td>\n",
       "      <td>0.123967</td>\n",
       "      <td>0.233333</td>\n",
       "    </tr>\n",
       "    <tr>\n",
       "      <th>14</th>\n",
       "      <td>Pathologist 8</td>\n",
       "      <td>2020</td>\n",
       "      <td>61</td>\n",
       "      <td>0.114754</td>\n",
       "      <td>0.142857</td>\n",
       "    </tr>\n",
       "    <tr>\n",
       "      <th>15</th>\n",
       "      <td>Pathologist 9</td>\n",
       "      <td>2020</td>\n",
       "      <td>234</td>\n",
       "      <td>0.141026</td>\n",
       "      <td>0.333333</td>\n",
       "    </tr>\n",
       "    <tr>\n",
       "      <th>16</th>\n",
       "      <td>Pathologist 12</td>\n",
       "      <td>2020</td>\n",
       "      <td>665</td>\n",
       "      <td>0.166917</td>\n",
       "      <td>0.270270</td>\n",
       "    </tr>\n",
       "    <tr>\n",
       "      <th>17</th>\n",
       "      <td>Pathologist 2</td>\n",
       "      <td>2021</td>\n",
       "      <td>113</td>\n",
       "      <td>0.141593</td>\n",
       "      <td>0.250000</td>\n",
       "    </tr>\n",
       "    <tr>\n",
       "      <th>18</th>\n",
       "      <td>Pathologist 5</td>\n",
       "      <td>2021</td>\n",
       "      <td>180</td>\n",
       "      <td>0.238889</td>\n",
       "      <td>0.209302</td>\n",
       "    </tr>\n",
       "    <tr>\n",
       "      <th>19</th>\n",
       "      <td>Pathologist 7</td>\n",
       "      <td>2021</td>\n",
       "      <td>438</td>\n",
       "      <td>0.086758</td>\n",
       "      <td>0.105263</td>\n",
       "    </tr>\n",
       "    <tr>\n",
       "      <th>20</th>\n",
       "      <td>Pathologist 8</td>\n",
       "      <td>2021</td>\n",
       "      <td>92</td>\n",
       "      <td>0.239130</td>\n",
       "      <td>0.136364</td>\n",
       "    </tr>\n",
       "    <tr>\n",
       "      <th>21</th>\n",
       "      <td>Pathologist 9</td>\n",
       "      <td>2021</td>\n",
       "      <td>251</td>\n",
       "      <td>0.175299</td>\n",
       "      <td>0.295455</td>\n",
       "    </tr>\n",
       "    <tr>\n",
       "      <th>22</th>\n",
       "      <td>Pathologist 12</td>\n",
       "      <td>2021</td>\n",
       "      <td>544</td>\n",
       "      <td>0.163603</td>\n",
       "      <td>0.247191</td>\n",
       "    </tr>\n",
       "    <tr>\n",
       "      <th>23</th>\n",
       "      <td>Pathologist 2</td>\n",
       "      <td>2022</td>\n",
       "      <td>74</td>\n",
       "      <td>0.121622</td>\n",
       "      <td>0.222222</td>\n",
       "    </tr>\n",
       "    <tr>\n",
       "      <th>24</th>\n",
       "      <td>Pathologist 5</td>\n",
       "      <td>2022</td>\n",
       "      <td>137</td>\n",
       "      <td>0.226277</td>\n",
       "      <td>0.193548</td>\n",
       "    </tr>\n",
       "    <tr>\n",
       "      <th>25</th>\n",
       "      <td>Pathologist 7</td>\n",
       "      <td>2022</td>\n",
       "      <td>275</td>\n",
       "      <td>0.120000</td>\n",
       "      <td>0.333333</td>\n",
       "    </tr>\n",
       "    <tr>\n",
       "      <th>26</th>\n",
       "      <td>Pathologist 8</td>\n",
       "      <td>2022</td>\n",
       "      <td>71</td>\n",
       "      <td>0.309859</td>\n",
       "      <td>0.090909</td>\n",
       "    </tr>\n",
       "    <tr>\n",
       "      <th>27</th>\n",
       "      <td>Pathologist 9</td>\n",
       "      <td>2022</td>\n",
       "      <td>111</td>\n",
       "      <td>0.270270</td>\n",
       "      <td>0.233333</td>\n",
       "    </tr>\n",
       "    <tr>\n",
       "      <th>28</th>\n",
       "      <td>Pathologist 12</td>\n",
       "      <td>2022</td>\n",
       "      <td>326</td>\n",
       "      <td>0.245399</td>\n",
       "      <td>0.350000</td>\n",
       "    </tr>\n",
       "    <tr>\n",
       "      <th>0</th>\n",
       "      <td>All pathologists</td>\n",
       "      <td>2018</td>\n",
       "      <td>1292</td>\n",
       "      <td>0.178793</td>\n",
       "      <td>0.216450</td>\n",
       "    </tr>\n",
       "    <tr>\n",
       "      <th>0</th>\n",
       "      <td>All pathologists</td>\n",
       "      <td>2019</td>\n",
       "      <td>1751</td>\n",
       "      <td>0.171331</td>\n",
       "      <td>0.256667</td>\n",
       "    </tr>\n",
       "    <tr>\n",
       "      <th>0</th>\n",
       "      <td>All pathologists</td>\n",
       "      <td>2020</td>\n",
       "      <td>1551</td>\n",
       "      <td>0.167634</td>\n",
       "      <td>0.257692</td>\n",
       "    </tr>\n",
       "    <tr>\n",
       "      <th>0</th>\n",
       "      <td>All pathologists</td>\n",
       "      <td>2021</td>\n",
       "      <td>1618</td>\n",
       "      <td>0.155748</td>\n",
       "      <td>0.218254</td>\n",
       "    </tr>\n",
       "    <tr>\n",
       "      <th>0</th>\n",
       "      <td>All pathologists</td>\n",
       "      <td>2022</td>\n",
       "      <td>994</td>\n",
       "      <td>0.206237</td>\n",
       "      <td>0.273171</td>\n",
       "    </tr>\n",
       "  </tbody>\n",
       "</table>\n",
       "</div>"
      ],
      "text/plain": [
       "         Pathologist  Year  Case Count  Call rate category III  \\\n",
       "0      Pathologist 2  2018         491                0.128310   \n",
       "1      Pathologist 5  2018         232                0.379310   \n",
       "2      Pathologist 7  2018           4                0.500000   \n",
       "3      Pathologist 8  2018         480                0.139583   \n",
       "4      Pathologist 9  2018          85                0.129412   \n",
       "5      Pathologist 2  2019         358                0.094972   \n",
       "6      Pathologist 5  2019         425                0.230588   \n",
       "7      Pathologist 7  2019         229                0.065502   \n",
       "8      Pathologist 8  2019         358                0.131285   \n",
       "9      Pathologist 9  2019         114                0.157895   \n",
       "10    Pathologist 12  2019         267                0.329588   \n",
       "11     Pathologist 2  2020          99                0.101010   \n",
       "12     Pathologist 5  2020         250                0.276000   \n",
       "13     Pathologist 7  2020         242                0.123967   \n",
       "14     Pathologist 8  2020          61                0.114754   \n",
       "15     Pathologist 9  2020         234                0.141026   \n",
       "16    Pathologist 12  2020         665                0.166917   \n",
       "17     Pathologist 2  2021         113                0.141593   \n",
       "18     Pathologist 5  2021         180                0.238889   \n",
       "19     Pathologist 7  2021         438                0.086758   \n",
       "20     Pathologist 8  2021          92                0.239130   \n",
       "21     Pathologist 9  2021         251                0.175299   \n",
       "22    Pathologist 12  2021         544                0.163603   \n",
       "23     Pathologist 2  2022          74                0.121622   \n",
       "24     Pathologist 5  2022         137                0.226277   \n",
       "25     Pathologist 7  2022         275                0.120000   \n",
       "26     Pathologist 8  2022          71                0.309859   \n",
       "27     Pathologist 9  2022         111                0.270270   \n",
       "28    Pathologist 12  2022         326                0.245399   \n",
       "0   All pathologists  2018        1292                0.178793   \n",
       "0   All pathologists  2019        1751                0.171331   \n",
       "0   All pathologists  2020        1551                0.167634   \n",
       "0   All pathologists  2021        1618                0.155748   \n",
       "0   All pathologists  2022         994                0.206237   \n",
       "\n",
       "    Positive rate category III  \n",
       "0                     0.222222  \n",
       "1                     0.147727  \n",
       "2                     0.000000  \n",
       "3                     0.298507  \n",
       "4                     0.272727  \n",
       "5                     0.323529  \n",
       "6                     0.214286  \n",
       "7                     0.400000  \n",
       "8                     0.361702  \n",
       "9                     0.388889  \n",
       "10                    0.170455  \n",
       "11                    0.300000  \n",
       "12                    0.217391  \n",
       "13                    0.233333  \n",
       "14                    0.142857  \n",
       "15                    0.333333  \n",
       "16                    0.270270  \n",
       "17                    0.250000  \n",
       "18                    0.209302  \n",
       "19                    0.105263  \n",
       "20                    0.136364  \n",
       "21                    0.295455  \n",
       "22                    0.247191  \n",
       "23                    0.222222  \n",
       "24                    0.193548  \n",
       "25                    0.333333  \n",
       "26                    0.090909  \n",
       "27                    0.233333  \n",
       "28                    0.350000  \n",
       "0                     0.216450  \n",
       "0                     0.256667  \n",
       "0                     0.257692  \n",
       "0                     0.218254  \n",
       "0                     0.273171  "
      ]
     },
     "execution_count": 5,
     "metadata": {},
     "output_type": "execute_result"
    }
   ],
   "source": [
    "gap_minder_data"
   ]
  },
  {
   "cell_type": "code",
   "execution_count": 14,
   "metadata": {},
   "outputs": [
    {
     "data": {
      "text/html": [
       "<div>\n",
       "<style scoped>\n",
       "    .dataframe tbody tr th:only-of-type {\n",
       "        vertical-align: middle;\n",
       "    }\n",
       "\n",
       "    .dataframe tbody tr th {\n",
       "        vertical-align: top;\n",
       "    }\n",
       "\n",
       "    .dataframe thead th {\n",
       "        text-align: right;\n",
       "    }\n",
       "</style>\n",
       "<table border=\"1\" class=\"dataframe\">\n",
       "  <thead>\n",
       "    <tr style=\"text-align: right;\">\n",
       "      <th></th>\n",
       "      <th>Pathologist</th>\n",
       "      <th>Year</th>\n",
       "      <th>Case Count</th>\n",
       "      <th>Call rate category III</th>\n",
       "      <th>Positive rate category III</th>\n",
       "    </tr>\n",
       "  </thead>\n",
       "  <tbody>\n",
       "    <tr>\n",
       "      <th>0</th>\n",
       "      <td>Pathologist 12</td>\n",
       "      <td>2019</td>\n",
       "      <td>267</td>\n",
       "      <td>0.329588</td>\n",
       "      <td>0.170455</td>\n",
       "    </tr>\n",
       "  </tbody>\n",
       "</table>\n",
       "</div>"
      ],
      "text/plain": [
       "      Pathologist  Year  Case Count  Call rate category III  \\\n",
       "0  Pathologist 12  2019         267                0.329588   \n",
       "\n",
       "   Positive rate category III  \n",
       "0                    0.170455  "
      ]
     },
     "execution_count": 14,
     "metadata": {},
     "output_type": "execute_result"
    }
   ],
   "source": [
    "pd.DataFrame(gap_minder_data.loc[10].to_dict(),index=[0])"
   ]
  },
  {
   "cell_type": "code",
   "execution_count": 10,
   "metadata": {},
   "outputs": [],
   "source": [
    "time_df=pd.DataFrame()\n",
    "for path in pathologists+[\"All pathologists\"]:\n",
    "    time_path=pd.DataFrame()\n",
    "    time_path[\"x\"]=list(gap_minder_data[gap_minder_data[\"Pathologist\"]==path][\"Year\"].unique())\n",
    "    time_path[\"y\"]=list(gap_minder_data[gap_minder_data[\"Pathologist\"]==path][\"Call rate category III\"])\n",
    "    time_path[\"Pathologist\"]=[path for i in range(time_path[\"x\"].shape[0]) ]\n",
    "    time_df=pd.concat([time_df,time_path])"
   ]
  },
  {
   "cell_type": "code",
   "execution_count": 11,
   "metadata": {},
   "outputs": [
    {
     "data": {
      "text/html": [
       "<div>\n",
       "<style scoped>\n",
       "    .dataframe tbody tr th:only-of-type {\n",
       "        vertical-align: middle;\n",
       "    }\n",
       "\n",
       "    .dataframe tbody tr th {\n",
       "        vertical-align: top;\n",
       "    }\n",
       "\n",
       "    .dataframe thead th {\n",
       "        text-align: right;\n",
       "    }\n",
       "</style>\n",
       "<table border=\"1\" class=\"dataframe\">\n",
       "  <thead>\n",
       "    <tr style=\"text-align: right;\">\n",
       "      <th></th>\n",
       "      <th>x</th>\n",
       "      <th>y</th>\n",
       "      <th>Pathologist</th>\n",
       "    </tr>\n",
       "  </thead>\n",
       "  <tbody>\n",
       "    <tr>\n",
       "      <th>0</th>\n",
       "      <td>2018</td>\n",
       "      <td>0.128310</td>\n",
       "      <td>Pathologist 2</td>\n",
       "    </tr>\n",
       "    <tr>\n",
       "      <th>1</th>\n",
       "      <td>2019</td>\n",
       "      <td>0.094972</td>\n",
       "      <td>Pathologist 2</td>\n",
       "    </tr>\n",
       "    <tr>\n",
       "      <th>2</th>\n",
       "      <td>2020</td>\n",
       "      <td>0.101010</td>\n",
       "      <td>Pathologist 2</td>\n",
       "    </tr>\n",
       "    <tr>\n",
       "      <th>3</th>\n",
       "      <td>2021</td>\n",
       "      <td>0.141593</td>\n",
       "      <td>Pathologist 2</td>\n",
       "    </tr>\n",
       "    <tr>\n",
       "      <th>4</th>\n",
       "      <td>2022</td>\n",
       "      <td>0.121622</td>\n",
       "      <td>Pathologist 2</td>\n",
       "    </tr>\n",
       "    <tr>\n",
       "      <th>0</th>\n",
       "      <td>2018</td>\n",
       "      <td>0.379310</td>\n",
       "      <td>Pathologist 5</td>\n",
       "    </tr>\n",
       "    <tr>\n",
       "      <th>1</th>\n",
       "      <td>2019</td>\n",
       "      <td>0.230588</td>\n",
       "      <td>Pathologist 5</td>\n",
       "    </tr>\n",
       "    <tr>\n",
       "      <th>2</th>\n",
       "      <td>2020</td>\n",
       "      <td>0.276000</td>\n",
       "      <td>Pathologist 5</td>\n",
       "    </tr>\n",
       "    <tr>\n",
       "      <th>3</th>\n",
       "      <td>2021</td>\n",
       "      <td>0.238889</td>\n",
       "      <td>Pathologist 5</td>\n",
       "    </tr>\n",
       "    <tr>\n",
       "      <th>4</th>\n",
       "      <td>2022</td>\n",
       "      <td>0.226277</td>\n",
       "      <td>Pathologist 5</td>\n",
       "    </tr>\n",
       "    <tr>\n",
       "      <th>0</th>\n",
       "      <td>2018</td>\n",
       "      <td>0.500000</td>\n",
       "      <td>Pathologist 7</td>\n",
       "    </tr>\n",
       "    <tr>\n",
       "      <th>1</th>\n",
       "      <td>2019</td>\n",
       "      <td>0.065502</td>\n",
       "      <td>Pathologist 7</td>\n",
       "    </tr>\n",
       "    <tr>\n",
       "      <th>2</th>\n",
       "      <td>2020</td>\n",
       "      <td>0.123967</td>\n",
       "      <td>Pathologist 7</td>\n",
       "    </tr>\n",
       "    <tr>\n",
       "      <th>3</th>\n",
       "      <td>2021</td>\n",
       "      <td>0.086758</td>\n",
       "      <td>Pathologist 7</td>\n",
       "    </tr>\n",
       "    <tr>\n",
       "      <th>4</th>\n",
       "      <td>2022</td>\n",
       "      <td>0.120000</td>\n",
       "      <td>Pathologist 7</td>\n",
       "    </tr>\n",
       "    <tr>\n",
       "      <th>0</th>\n",
       "      <td>2018</td>\n",
       "      <td>0.139583</td>\n",
       "      <td>Pathologist 8</td>\n",
       "    </tr>\n",
       "    <tr>\n",
       "      <th>1</th>\n",
       "      <td>2019</td>\n",
       "      <td>0.131285</td>\n",
       "      <td>Pathologist 8</td>\n",
       "    </tr>\n",
       "    <tr>\n",
       "      <th>2</th>\n",
       "      <td>2020</td>\n",
       "      <td>0.114754</td>\n",
       "      <td>Pathologist 8</td>\n",
       "    </tr>\n",
       "    <tr>\n",
       "      <th>3</th>\n",
       "      <td>2021</td>\n",
       "      <td>0.239130</td>\n",
       "      <td>Pathologist 8</td>\n",
       "    </tr>\n",
       "    <tr>\n",
       "      <th>4</th>\n",
       "      <td>2022</td>\n",
       "      <td>0.309859</td>\n",
       "      <td>Pathologist 8</td>\n",
       "    </tr>\n",
       "    <tr>\n",
       "      <th>0</th>\n",
       "      <td>2018</td>\n",
       "      <td>0.129412</td>\n",
       "      <td>Pathologist 9</td>\n",
       "    </tr>\n",
       "    <tr>\n",
       "      <th>1</th>\n",
       "      <td>2019</td>\n",
       "      <td>0.157895</td>\n",
       "      <td>Pathologist 9</td>\n",
       "    </tr>\n",
       "    <tr>\n",
       "      <th>2</th>\n",
       "      <td>2020</td>\n",
       "      <td>0.141026</td>\n",
       "      <td>Pathologist 9</td>\n",
       "    </tr>\n",
       "    <tr>\n",
       "      <th>3</th>\n",
       "      <td>2021</td>\n",
       "      <td>0.175299</td>\n",
       "      <td>Pathologist 9</td>\n",
       "    </tr>\n",
       "    <tr>\n",
       "      <th>4</th>\n",
       "      <td>2022</td>\n",
       "      <td>0.270270</td>\n",
       "      <td>Pathologist 9</td>\n",
       "    </tr>\n",
       "    <tr>\n",
       "      <th>0</th>\n",
       "      <td>2019</td>\n",
       "      <td>0.329588</td>\n",
       "      <td>Pathologist 12</td>\n",
       "    </tr>\n",
       "    <tr>\n",
       "      <th>1</th>\n",
       "      <td>2020</td>\n",
       "      <td>0.166917</td>\n",
       "      <td>Pathologist 12</td>\n",
       "    </tr>\n",
       "    <tr>\n",
       "      <th>2</th>\n",
       "      <td>2021</td>\n",
       "      <td>0.163603</td>\n",
       "      <td>Pathologist 12</td>\n",
       "    </tr>\n",
       "    <tr>\n",
       "      <th>3</th>\n",
       "      <td>2022</td>\n",
       "      <td>0.245399</td>\n",
       "      <td>Pathologist 12</td>\n",
       "    </tr>\n",
       "    <tr>\n",
       "      <th>0</th>\n",
       "      <td>2018</td>\n",
       "      <td>0.178793</td>\n",
       "      <td>All pathologists</td>\n",
       "    </tr>\n",
       "    <tr>\n",
       "      <th>1</th>\n",
       "      <td>2019</td>\n",
       "      <td>0.171331</td>\n",
       "      <td>All pathologists</td>\n",
       "    </tr>\n",
       "    <tr>\n",
       "      <th>2</th>\n",
       "      <td>2020</td>\n",
       "      <td>0.167634</td>\n",
       "      <td>All pathologists</td>\n",
       "    </tr>\n",
       "    <tr>\n",
       "      <th>3</th>\n",
       "      <td>2021</td>\n",
       "      <td>0.155748</td>\n",
       "      <td>All pathologists</td>\n",
       "    </tr>\n",
       "    <tr>\n",
       "      <th>4</th>\n",
       "      <td>2022</td>\n",
       "      <td>0.206237</td>\n",
       "      <td>All pathologists</td>\n",
       "    </tr>\n",
       "  </tbody>\n",
       "</table>\n",
       "</div>"
      ],
      "text/plain": [
       "      x         y       Pathologist\n",
       "0  2018  0.128310     Pathologist 2\n",
       "1  2019  0.094972     Pathologist 2\n",
       "2  2020  0.101010     Pathologist 2\n",
       "3  2021  0.141593     Pathologist 2\n",
       "4  2022  0.121622     Pathologist 2\n",
       "0  2018  0.379310     Pathologist 5\n",
       "1  2019  0.230588     Pathologist 5\n",
       "2  2020  0.276000     Pathologist 5\n",
       "3  2021  0.238889     Pathologist 5\n",
       "4  2022  0.226277     Pathologist 5\n",
       "0  2018  0.500000     Pathologist 7\n",
       "1  2019  0.065502     Pathologist 7\n",
       "2  2020  0.123967     Pathologist 7\n",
       "3  2021  0.086758     Pathologist 7\n",
       "4  2022  0.120000     Pathologist 7\n",
       "0  2018  0.139583     Pathologist 8\n",
       "1  2019  0.131285     Pathologist 8\n",
       "2  2020  0.114754     Pathologist 8\n",
       "3  2021  0.239130     Pathologist 8\n",
       "4  2022  0.309859     Pathologist 8\n",
       "0  2018  0.129412     Pathologist 9\n",
       "1  2019  0.157895     Pathologist 9\n",
       "2  2020  0.141026     Pathologist 9\n",
       "3  2021  0.175299     Pathologist 9\n",
       "4  2022  0.270270     Pathologist 9\n",
       "0  2019  0.329588    Pathologist 12\n",
       "1  2020  0.166917    Pathologist 12\n",
       "2  2021  0.163603    Pathologist 12\n",
       "3  2022  0.245399    Pathologist 12\n",
       "0  2018  0.178793  All pathologists\n",
       "1  2019  0.171331  All pathologists\n",
       "2  2020  0.167634  All pathologists\n",
       "3  2021  0.155748  All pathologists\n",
       "4  2022  0.206237  All pathologists"
      ]
     },
     "execution_count": 11,
     "metadata": {},
     "output_type": "execute_result"
    }
   ],
   "source": [
    "time_df"
   ]
  },
  {
   "cell_type": "code",
   "execution_count": 6,
   "metadata": {},
   "outputs": [],
   "source": [
    "import plotly.express as px"
   ]
  },
  {
   "cell_type": "code",
   "execution_count": 7,
   "metadata": {},
   "outputs": [],
   "source": [
    "from be.controllers.CatIII_Call_Rate_over_time import make_CatIII_Call_Rate_time"
   ]
  },
  {
   "cell_type": "code",
   "execution_count": 8,
   "metadata": {},
   "outputs": [
    {
     "data": {
      "application/vnd.plotly.v1+json": {
       "config": {
        "plotlyServerURL": "https://plot.ly"
       },
       "data": [
        {
         "hovertemplate": "x=%{x}<br>y=%{y}<extra></extra>",
         "legendgroup": "",
         "line": {
          "color": "#636efa",
          "dash": "solid"
         },
         "marker": {
          "symbol": "circle"
         },
         "mode": "lines+markers",
         "name": "",
         "orientation": "v",
         "showlegend": false,
         "type": "scatter",
         "x": [
          2018,
          2019,
          2020,
          2021,
          2022,
          2018,
          2019,
          2020,
          2021,
          2022,
          2018,
          2019,
          2020,
          2021,
          2022,
          2018,
          2019,
          2020,
          2021,
          2022,
          2018,
          2019,
          2020,
          2021,
          2022,
          2019,
          2020,
          2021,
          2022,
          2018,
          2019,
          2020,
          2021,
          2022
         ],
         "xaxis": "x",
         "y": [
          0.12830957230142567,
          0.09497206703910614,
          0.10101010101010101,
          0.1415929203539823,
          0.12162162162162163,
          0.3793103448275862,
          0.23058823529411765,
          0.276,
          0.2388888888888889,
          0.22627737226277372,
          0.5,
          0.06550218340611354,
          0.12396694214876033,
          0.0867579908675799,
          0.12,
          0.13958333333333334,
          0.13128491620111732,
          0.11475409836065574,
          0.2391304347826087,
          0.30985915492957744,
          0.12941176470588237,
          0.15789473684210525,
          0.14102564102564102,
          0.1752988047808765,
          0.2702702702702703,
          0.3295880149812734,
          0.16691729323308271,
          0.1636029411764706,
          0.24539877300613497,
          0.17879256965944273,
          0.17133066818960593,
          0.16763378465506126,
          0.1557478368355995,
          0.2062374245472837
         ],
         "yaxis": "y"
        }
       ],
       "layout": {
        "autosize": true,
        "legend": {
         "tracegroupgap": 0
        },
        "margin": {
         "b": 0,
         "l": 0,
         "pad": 0,
         "r": 0,
         "t": 40
        },
        "template": {
         "data": {
          "bar": [
           {
            "error_x": {
             "color": "#f2f5fa"
            },
            "error_y": {
             "color": "#f2f5fa"
            },
            "marker": {
             "line": {
              "color": "rgb(17,17,17)",
              "width": 0.5
             },
             "pattern": {
              "fillmode": "overlay",
              "size": 10,
              "solidity": 0.2
             }
            },
            "type": "bar"
           }
          ],
          "barpolar": [
           {
            "marker": {
             "line": {
              "color": "rgb(17,17,17)",
              "width": 0.5
             },
             "pattern": {
              "fillmode": "overlay",
              "size": 10,
              "solidity": 0.2
             }
            },
            "type": "barpolar"
           }
          ],
          "carpet": [
           {
            "aaxis": {
             "endlinecolor": "#A2B1C6",
             "gridcolor": "#506784",
             "linecolor": "#506784",
             "minorgridcolor": "#506784",
             "startlinecolor": "#A2B1C6"
            },
            "baxis": {
             "endlinecolor": "#A2B1C6",
             "gridcolor": "#506784",
             "linecolor": "#506784",
             "minorgridcolor": "#506784",
             "startlinecolor": "#A2B1C6"
            },
            "type": "carpet"
           }
          ],
          "choropleth": [
           {
            "colorbar": {
             "outlinewidth": 0,
             "ticks": ""
            },
            "type": "choropleth"
           }
          ],
          "contour": [
           {
            "colorbar": {
             "outlinewidth": 0,
             "ticks": ""
            },
            "colorscale": [
             [
              0,
              "#0d0887"
             ],
             [
              0.1111111111111111,
              "#46039f"
             ],
             [
              0.2222222222222222,
              "#7201a8"
             ],
             [
              0.3333333333333333,
              "#9c179e"
             ],
             [
              0.4444444444444444,
              "#bd3786"
             ],
             [
              0.5555555555555556,
              "#d8576b"
             ],
             [
              0.6666666666666666,
              "#ed7953"
             ],
             [
              0.7777777777777778,
              "#fb9f3a"
             ],
             [
              0.8888888888888888,
              "#fdca26"
             ],
             [
              1,
              "#f0f921"
             ]
            ],
            "type": "contour"
           }
          ],
          "contourcarpet": [
           {
            "colorbar": {
             "outlinewidth": 0,
             "ticks": ""
            },
            "type": "contourcarpet"
           }
          ],
          "heatmap": [
           {
            "colorbar": {
             "outlinewidth": 0,
             "ticks": ""
            },
            "colorscale": [
             [
              0,
              "#0d0887"
             ],
             [
              0.1111111111111111,
              "#46039f"
             ],
             [
              0.2222222222222222,
              "#7201a8"
             ],
             [
              0.3333333333333333,
              "#9c179e"
             ],
             [
              0.4444444444444444,
              "#bd3786"
             ],
             [
              0.5555555555555556,
              "#d8576b"
             ],
             [
              0.6666666666666666,
              "#ed7953"
             ],
             [
              0.7777777777777778,
              "#fb9f3a"
             ],
             [
              0.8888888888888888,
              "#fdca26"
             ],
             [
              1,
              "#f0f921"
             ]
            ],
            "type": "heatmap"
           }
          ],
          "heatmapgl": [
           {
            "colorbar": {
             "outlinewidth": 0,
             "ticks": ""
            },
            "colorscale": [
             [
              0,
              "#0d0887"
             ],
             [
              0.1111111111111111,
              "#46039f"
             ],
             [
              0.2222222222222222,
              "#7201a8"
             ],
             [
              0.3333333333333333,
              "#9c179e"
             ],
             [
              0.4444444444444444,
              "#bd3786"
             ],
             [
              0.5555555555555556,
              "#d8576b"
             ],
             [
              0.6666666666666666,
              "#ed7953"
             ],
             [
              0.7777777777777778,
              "#fb9f3a"
             ],
             [
              0.8888888888888888,
              "#fdca26"
             ],
             [
              1,
              "#f0f921"
             ]
            ],
            "type": "heatmapgl"
           }
          ],
          "histogram": [
           {
            "marker": {
             "pattern": {
              "fillmode": "overlay",
              "size": 10,
              "solidity": 0.2
             }
            },
            "type": "histogram"
           }
          ],
          "histogram2d": [
           {
            "colorbar": {
             "outlinewidth": 0,
             "ticks": ""
            },
            "colorscale": [
             [
              0,
              "#0d0887"
             ],
             [
              0.1111111111111111,
              "#46039f"
             ],
             [
              0.2222222222222222,
              "#7201a8"
             ],
             [
              0.3333333333333333,
              "#9c179e"
             ],
             [
              0.4444444444444444,
              "#bd3786"
             ],
             [
              0.5555555555555556,
              "#d8576b"
             ],
             [
              0.6666666666666666,
              "#ed7953"
             ],
             [
              0.7777777777777778,
              "#fb9f3a"
             ],
             [
              0.8888888888888888,
              "#fdca26"
             ],
             [
              1,
              "#f0f921"
             ]
            ],
            "type": "histogram2d"
           }
          ],
          "histogram2dcontour": [
           {
            "colorbar": {
             "outlinewidth": 0,
             "ticks": ""
            },
            "colorscale": [
             [
              0,
              "#0d0887"
             ],
             [
              0.1111111111111111,
              "#46039f"
             ],
             [
              0.2222222222222222,
              "#7201a8"
             ],
             [
              0.3333333333333333,
              "#9c179e"
             ],
             [
              0.4444444444444444,
              "#bd3786"
             ],
             [
              0.5555555555555556,
              "#d8576b"
             ],
             [
              0.6666666666666666,
              "#ed7953"
             ],
             [
              0.7777777777777778,
              "#fb9f3a"
             ],
             [
              0.8888888888888888,
              "#fdca26"
             ],
             [
              1,
              "#f0f921"
             ]
            ],
            "type": "histogram2dcontour"
           }
          ],
          "mesh3d": [
           {
            "colorbar": {
             "outlinewidth": 0,
             "ticks": ""
            },
            "type": "mesh3d"
           }
          ],
          "parcoords": [
           {
            "line": {
             "colorbar": {
              "outlinewidth": 0,
              "ticks": ""
             }
            },
            "type": "parcoords"
           }
          ],
          "pie": [
           {
            "automargin": true,
            "type": "pie"
           }
          ],
          "scatter": [
           {
            "marker": {
             "line": {
              "color": "#283442"
             }
            },
            "type": "scatter"
           }
          ],
          "scatter3d": [
           {
            "line": {
             "colorbar": {
              "outlinewidth": 0,
              "ticks": ""
             }
            },
            "marker": {
             "colorbar": {
              "outlinewidth": 0,
              "ticks": ""
             }
            },
            "type": "scatter3d"
           }
          ],
          "scattercarpet": [
           {
            "marker": {
             "colorbar": {
              "outlinewidth": 0,
              "ticks": ""
             }
            },
            "type": "scattercarpet"
           }
          ],
          "scattergeo": [
           {
            "marker": {
             "colorbar": {
              "outlinewidth": 0,
              "ticks": ""
             }
            },
            "type": "scattergeo"
           }
          ],
          "scattergl": [
           {
            "marker": {
             "line": {
              "color": "#283442"
             }
            },
            "type": "scattergl"
           }
          ],
          "scattermapbox": [
           {
            "marker": {
             "colorbar": {
              "outlinewidth": 0,
              "ticks": ""
             }
            },
            "type": "scattermapbox"
           }
          ],
          "scatterpolar": [
           {
            "marker": {
             "colorbar": {
              "outlinewidth": 0,
              "ticks": ""
             }
            },
            "type": "scatterpolar"
           }
          ],
          "scatterpolargl": [
           {
            "marker": {
             "colorbar": {
              "outlinewidth": 0,
              "ticks": ""
             }
            },
            "type": "scatterpolargl"
           }
          ],
          "scatterternary": [
           {
            "marker": {
             "colorbar": {
              "outlinewidth": 0,
              "ticks": ""
             }
            },
            "type": "scatterternary"
           }
          ],
          "surface": [
           {
            "colorbar": {
             "outlinewidth": 0,
             "ticks": ""
            },
            "colorscale": [
             [
              0,
              "#0d0887"
             ],
             [
              0.1111111111111111,
              "#46039f"
             ],
             [
              0.2222222222222222,
              "#7201a8"
             ],
             [
              0.3333333333333333,
              "#9c179e"
             ],
             [
              0.4444444444444444,
              "#bd3786"
             ],
             [
              0.5555555555555556,
              "#d8576b"
             ],
             [
              0.6666666666666666,
              "#ed7953"
             ],
             [
              0.7777777777777778,
              "#fb9f3a"
             ],
             [
              0.8888888888888888,
              "#fdca26"
             ],
             [
              1,
              "#f0f921"
             ]
            ],
            "type": "surface"
           }
          ],
          "table": [
           {
            "cells": {
             "fill": {
              "color": "#506784"
             },
             "line": {
              "color": "rgb(17,17,17)"
             }
            },
            "header": {
             "fill": {
              "color": "#2a3f5f"
             },
             "line": {
              "color": "rgb(17,17,17)"
             }
            },
            "type": "table"
           }
          ]
         },
         "layout": {
          "annotationdefaults": {
           "arrowcolor": "#f2f5fa",
           "arrowhead": 0,
           "arrowwidth": 1
          },
          "autotypenumbers": "strict",
          "coloraxis": {
           "colorbar": {
            "outlinewidth": 0,
            "ticks": ""
           }
          },
          "colorscale": {
           "diverging": [
            [
             0,
             "#8e0152"
            ],
            [
             0.1,
             "#c51b7d"
            ],
            [
             0.2,
             "#de77ae"
            ],
            [
             0.3,
             "#f1b6da"
            ],
            [
             0.4,
             "#fde0ef"
            ],
            [
             0.5,
             "#f7f7f7"
            ],
            [
             0.6,
             "#e6f5d0"
            ],
            [
             0.7,
             "#b8e186"
            ],
            [
             0.8,
             "#7fbc41"
            ],
            [
             0.9,
             "#4d9221"
            ],
            [
             1,
             "#276419"
            ]
           ],
           "sequential": [
            [
             0,
             "#0d0887"
            ],
            [
             0.1111111111111111,
             "#46039f"
            ],
            [
             0.2222222222222222,
             "#7201a8"
            ],
            [
             0.3333333333333333,
             "#9c179e"
            ],
            [
             0.4444444444444444,
             "#bd3786"
            ],
            [
             0.5555555555555556,
             "#d8576b"
            ],
            [
             0.6666666666666666,
             "#ed7953"
            ],
            [
             0.7777777777777778,
             "#fb9f3a"
            ],
            [
             0.8888888888888888,
             "#fdca26"
            ],
            [
             1,
             "#f0f921"
            ]
           ],
           "sequentialminus": [
            [
             0,
             "#0d0887"
            ],
            [
             0.1111111111111111,
             "#46039f"
            ],
            [
             0.2222222222222222,
             "#7201a8"
            ],
            [
             0.3333333333333333,
             "#9c179e"
            ],
            [
             0.4444444444444444,
             "#bd3786"
            ],
            [
             0.5555555555555556,
             "#d8576b"
            ],
            [
             0.6666666666666666,
             "#ed7953"
            ],
            [
             0.7777777777777778,
             "#fb9f3a"
            ],
            [
             0.8888888888888888,
             "#fdca26"
            ],
            [
             1,
             "#f0f921"
            ]
           ]
          },
          "colorway": [
           "#636efa",
           "#EF553B",
           "#00cc96",
           "#ab63fa",
           "#FFA15A",
           "#19d3f3",
           "#FF6692",
           "#B6E880",
           "#FF97FF",
           "#FECB52"
          ],
          "font": {
           "color": "#f2f5fa"
          },
          "geo": {
           "bgcolor": "rgb(17,17,17)",
           "lakecolor": "rgb(17,17,17)",
           "landcolor": "rgb(17,17,17)",
           "showlakes": true,
           "showland": true,
           "subunitcolor": "#506784"
          },
          "hoverlabel": {
           "align": "left"
          },
          "hovermode": "closest",
          "mapbox": {
           "style": "dark"
          },
          "paper_bgcolor": "rgb(17,17,17)",
          "plot_bgcolor": "rgb(17,17,17)",
          "polar": {
           "angularaxis": {
            "gridcolor": "#506784",
            "linecolor": "#506784",
            "ticks": ""
           },
           "bgcolor": "rgb(17,17,17)",
           "radialaxis": {
            "gridcolor": "#506784",
            "linecolor": "#506784",
            "ticks": ""
           }
          },
          "scene": {
           "xaxis": {
            "backgroundcolor": "rgb(17,17,17)",
            "gridcolor": "#506784",
            "gridwidth": 2,
            "linecolor": "#506784",
            "showbackground": true,
            "ticks": "",
            "zerolinecolor": "#C8D4E3"
           },
           "yaxis": {
            "backgroundcolor": "rgb(17,17,17)",
            "gridcolor": "#506784",
            "gridwidth": 2,
            "linecolor": "#506784",
            "showbackground": true,
            "ticks": "",
            "zerolinecolor": "#C8D4E3"
           },
           "zaxis": {
            "backgroundcolor": "rgb(17,17,17)",
            "gridcolor": "#506784",
            "gridwidth": 2,
            "linecolor": "#506784",
            "showbackground": true,
            "ticks": "",
            "zerolinecolor": "#C8D4E3"
           }
          },
          "shapedefaults": {
           "line": {
            "color": "#f2f5fa"
           }
          },
          "sliderdefaults": {
           "bgcolor": "#C8D4E3",
           "bordercolor": "rgb(17,17,17)",
           "borderwidth": 1,
           "tickwidth": 0
          },
          "ternary": {
           "aaxis": {
            "gridcolor": "#506784",
            "linecolor": "#506784",
            "ticks": ""
           },
           "baxis": {
            "gridcolor": "#506784",
            "linecolor": "#506784",
            "ticks": ""
           },
           "bgcolor": "rgb(17,17,17)",
           "caxis": {
            "gridcolor": "#506784",
            "linecolor": "#506784",
            "ticks": ""
           }
          },
          "title": {
           "x": 0.05
          },
          "updatemenudefaults": {
           "bgcolor": "#506784",
           "borderwidth": 0
          },
          "xaxis": {
           "automargin": true,
           "gridcolor": "#283442",
           "linecolor": "#506784",
           "ticks": "",
           "title": {
            "standoff": 15
           },
           "zerolinecolor": "#283442",
           "zerolinewidth": 2
          },
          "yaxis": {
           "automargin": true,
           "gridcolor": "#283442",
           "linecolor": "#506784",
           "ticks": "",
           "title": {
            "standoff": 15
           },
           "zerolinecolor": "#283442",
           "zerolinewidth": 2
          }
         }
        },
        "title": {
         "text": "Category III Call Rate Over Time",
         "x": 0.46,
         "xanchor": "center",
         "y": 0.98,
         "yanchor": "top"
        },
        "xaxis": {
         "anchor": "y",
         "domain": [
          0,
          1
         ],
         "title": {
          "text": "Year"
         }
        },
        "yaxis": {
         "anchor": "x",
         "domain": [
          0,
          1
         ],
         "title": {
          "text": "Cat III Call Rate"
         }
        }
       }
      }
     },
     "metadata": {},
     "output_type": "display_data"
    }
   ],
   "source": [
    "make_CatIII_Call_Rate_time(time_df)"
   ]
  },
  {
   "cell_type": "code",
   "execution_count": 21,
   "metadata": {},
   "outputs": [
    {
     "data": {
      "text/html": [
       "<div>\n",
       "<style scoped>\n",
       "    .dataframe tbody tr th:only-of-type {\n",
       "        vertical-align: middle;\n",
       "    }\n",
       "\n",
       "    .dataframe tbody tr th {\n",
       "        vertical-align: top;\n",
       "    }\n",
       "\n",
       "    .dataframe thead th {\n",
       "        text-align: right;\n",
       "    }\n",
       "</style>\n",
       "<table border=\"1\" class=\"dataframe\">\n",
       "  <thead>\n",
       "    <tr style=\"text-align: right;\">\n",
       "      <th></th>\n",
       "      <th>x</th>\n",
       "      <th>y</th>\n",
       "      <th>Pathologist</th>\n",
       "    </tr>\n",
       "  </thead>\n",
       "  <tbody>\n",
       "    <tr>\n",
       "      <th>0</th>\n",
       "      <td>2018</td>\n",
       "      <td>0.128310</td>\n",
       "      <td>Pathologist 2</td>\n",
       "    </tr>\n",
       "    <tr>\n",
       "      <th>1</th>\n",
       "      <td>2019</td>\n",
       "      <td>0.094972</td>\n",
       "      <td>Pathologist 2</td>\n",
       "    </tr>\n",
       "    <tr>\n",
       "      <th>2</th>\n",
       "      <td>2020</td>\n",
       "      <td>0.101010</td>\n",
       "      <td>Pathologist 2</td>\n",
       "    </tr>\n",
       "    <tr>\n",
       "      <th>3</th>\n",
       "      <td>2021</td>\n",
       "      <td>0.141593</td>\n",
       "      <td>Pathologist 2</td>\n",
       "    </tr>\n",
       "    <tr>\n",
       "      <th>4</th>\n",
       "      <td>2022</td>\n",
       "      <td>0.121622</td>\n",
       "      <td>Pathologist 2</td>\n",
       "    </tr>\n",
       "    <tr>\n",
       "      <th>0</th>\n",
       "      <td>2018</td>\n",
       "      <td>0.379310</td>\n",
       "      <td>Pathologist 5</td>\n",
       "    </tr>\n",
       "    <tr>\n",
       "      <th>1</th>\n",
       "      <td>2019</td>\n",
       "      <td>0.230588</td>\n",
       "      <td>Pathologist 5</td>\n",
       "    </tr>\n",
       "    <tr>\n",
       "      <th>2</th>\n",
       "      <td>2020</td>\n",
       "      <td>0.276000</td>\n",
       "      <td>Pathologist 5</td>\n",
       "    </tr>\n",
       "    <tr>\n",
       "      <th>3</th>\n",
       "      <td>2021</td>\n",
       "      <td>0.238889</td>\n",
       "      <td>Pathologist 5</td>\n",
       "    </tr>\n",
       "    <tr>\n",
       "      <th>4</th>\n",
       "      <td>2022</td>\n",
       "      <td>0.226277</td>\n",
       "      <td>Pathologist 5</td>\n",
       "    </tr>\n",
       "    <tr>\n",
       "      <th>0</th>\n",
       "      <td>2018</td>\n",
       "      <td>0.500000</td>\n",
       "      <td>Pathologist 7</td>\n",
       "    </tr>\n",
       "    <tr>\n",
       "      <th>1</th>\n",
       "      <td>2019</td>\n",
       "      <td>0.065502</td>\n",
       "      <td>Pathologist 7</td>\n",
       "    </tr>\n",
       "    <tr>\n",
       "      <th>2</th>\n",
       "      <td>2020</td>\n",
       "      <td>0.123967</td>\n",
       "      <td>Pathologist 7</td>\n",
       "    </tr>\n",
       "    <tr>\n",
       "      <th>3</th>\n",
       "      <td>2021</td>\n",
       "      <td>0.086758</td>\n",
       "      <td>Pathologist 7</td>\n",
       "    </tr>\n",
       "    <tr>\n",
       "      <th>4</th>\n",
       "      <td>2022</td>\n",
       "      <td>0.120000</td>\n",
       "      <td>Pathologist 7</td>\n",
       "    </tr>\n",
       "    <tr>\n",
       "      <th>0</th>\n",
       "      <td>2018</td>\n",
       "      <td>0.139583</td>\n",
       "      <td>Pathologist 8</td>\n",
       "    </tr>\n",
       "    <tr>\n",
       "      <th>1</th>\n",
       "      <td>2019</td>\n",
       "      <td>0.131285</td>\n",
       "      <td>Pathologist 8</td>\n",
       "    </tr>\n",
       "    <tr>\n",
       "      <th>2</th>\n",
       "      <td>2020</td>\n",
       "      <td>0.114754</td>\n",
       "      <td>Pathologist 8</td>\n",
       "    </tr>\n",
       "    <tr>\n",
       "      <th>3</th>\n",
       "      <td>2021</td>\n",
       "      <td>0.239130</td>\n",
       "      <td>Pathologist 8</td>\n",
       "    </tr>\n",
       "    <tr>\n",
       "      <th>4</th>\n",
       "      <td>2022</td>\n",
       "      <td>0.309859</td>\n",
       "      <td>Pathologist 8</td>\n",
       "    </tr>\n",
       "    <tr>\n",
       "      <th>0</th>\n",
       "      <td>2018</td>\n",
       "      <td>0.129412</td>\n",
       "      <td>Pathologist 9</td>\n",
       "    </tr>\n",
       "    <tr>\n",
       "      <th>1</th>\n",
       "      <td>2019</td>\n",
       "      <td>0.157895</td>\n",
       "      <td>Pathologist 9</td>\n",
       "    </tr>\n",
       "    <tr>\n",
       "      <th>2</th>\n",
       "      <td>2020</td>\n",
       "      <td>0.141026</td>\n",
       "      <td>Pathologist 9</td>\n",
       "    </tr>\n",
       "    <tr>\n",
       "      <th>3</th>\n",
       "      <td>2021</td>\n",
       "      <td>0.175299</td>\n",
       "      <td>Pathologist 9</td>\n",
       "    </tr>\n",
       "    <tr>\n",
       "      <th>4</th>\n",
       "      <td>2022</td>\n",
       "      <td>0.270270</td>\n",
       "      <td>Pathologist 9</td>\n",
       "    </tr>\n",
       "    <tr>\n",
       "      <th>0</th>\n",
       "      <td>2019</td>\n",
       "      <td>0.329588</td>\n",
       "      <td>Pathologist 12</td>\n",
       "    </tr>\n",
       "    <tr>\n",
       "      <th>1</th>\n",
       "      <td>2020</td>\n",
       "      <td>0.166917</td>\n",
       "      <td>Pathologist 12</td>\n",
       "    </tr>\n",
       "    <tr>\n",
       "      <th>2</th>\n",
       "      <td>2021</td>\n",
       "      <td>0.163603</td>\n",
       "      <td>Pathologist 12</td>\n",
       "    </tr>\n",
       "    <tr>\n",
       "      <th>3</th>\n",
       "      <td>2022</td>\n",
       "      <td>0.245399</td>\n",
       "      <td>Pathologist 12</td>\n",
       "    </tr>\n",
       "    <tr>\n",
       "      <th>0</th>\n",
       "      <td>2018</td>\n",
       "      <td>0.178793</td>\n",
       "      <td>All pathologists</td>\n",
       "    </tr>\n",
       "    <tr>\n",
       "      <th>1</th>\n",
       "      <td>2019</td>\n",
       "      <td>0.171331</td>\n",
       "      <td>All pathologists</td>\n",
       "    </tr>\n",
       "    <tr>\n",
       "      <th>2</th>\n",
       "      <td>2020</td>\n",
       "      <td>0.167634</td>\n",
       "      <td>All pathologists</td>\n",
       "    </tr>\n",
       "    <tr>\n",
       "      <th>3</th>\n",
       "      <td>2021</td>\n",
       "      <td>0.155748</td>\n",
       "      <td>All pathologists</td>\n",
       "    </tr>\n",
       "    <tr>\n",
       "      <th>4</th>\n",
       "      <td>2022</td>\n",
       "      <td>0.206237</td>\n",
       "      <td>All pathologists</td>\n",
       "    </tr>\n",
       "  </tbody>\n",
       "</table>\n",
       "</div>"
      ],
      "text/plain": [
       "      x         y       Pathologist\n",
       "0  2018  0.128310     Pathologist 2\n",
       "1  2019  0.094972     Pathologist 2\n",
       "2  2020  0.101010     Pathologist 2\n",
       "3  2021  0.141593     Pathologist 2\n",
       "4  2022  0.121622     Pathologist 2\n",
       "0  2018  0.379310     Pathologist 5\n",
       "1  2019  0.230588     Pathologist 5\n",
       "2  2020  0.276000     Pathologist 5\n",
       "3  2021  0.238889     Pathologist 5\n",
       "4  2022  0.226277     Pathologist 5\n",
       "0  2018  0.500000     Pathologist 7\n",
       "1  2019  0.065502     Pathologist 7\n",
       "2  2020  0.123967     Pathologist 7\n",
       "3  2021  0.086758     Pathologist 7\n",
       "4  2022  0.120000     Pathologist 7\n",
       "0  2018  0.139583     Pathologist 8\n",
       "1  2019  0.131285     Pathologist 8\n",
       "2  2020  0.114754     Pathologist 8\n",
       "3  2021  0.239130     Pathologist 8\n",
       "4  2022  0.309859     Pathologist 8\n",
       "0  2018  0.129412     Pathologist 9\n",
       "1  2019  0.157895     Pathologist 9\n",
       "2  2020  0.141026     Pathologist 9\n",
       "3  2021  0.175299     Pathologist 9\n",
       "4  2022  0.270270     Pathologist 9\n",
       "0  2019  0.329588    Pathologist 12\n",
       "1  2020  0.166917    Pathologist 12\n",
       "2  2021  0.163603    Pathologist 12\n",
       "3  2022  0.245399    Pathologist 12\n",
       "0  2018  0.178793  All pathologists\n",
       "1  2019  0.171331  All pathologists\n",
       "2  2020  0.167634  All pathologists\n",
       "3  2021  0.155748  All pathologists\n",
       "4  2022  0.206237  All pathologists"
      ]
     },
     "execution_count": 21,
     "metadata": {},
     "output_type": "execute_result"
    }
   ],
   "source": [
    "time_df"
   ]
  },
  {
   "cell_type": "code",
   "execution_count": 29,
   "metadata": {},
   "outputs": [
    {
     "data": {
      "text/plain": [
       "[2018, 2019, 2020, 2021, 2022]"
      ]
     },
     "execution_count": 29,
     "metadata": {},
     "output_type": "execute_result"
    }
   ],
   "source": [
    "list(gap_minder_data[gap_minder_data[\"Pathologist\"]==\"All pathologists\"][\"Year\"])"
   ]
  },
  {
   "cell_type": "code",
   "execution_count": 24,
   "metadata": {},
   "outputs": [
    {
     "data": {
      "text/html": [
       "<div>\n",
       "<style scoped>\n",
       "    .dataframe tbody tr th:only-of-type {\n",
       "        vertical-align: middle;\n",
       "    }\n",
       "\n",
       "    .dataframe tbody tr th {\n",
       "        vertical-align: top;\n",
       "    }\n",
       "\n",
       "    .dataframe thead th {\n",
       "        text-align: right;\n",
       "    }\n",
       "</style>\n",
       "<table border=\"1\" class=\"dataframe\">\n",
       "  <thead>\n",
       "    <tr style=\"text-align: right;\">\n",
       "      <th></th>\n",
       "      <th>Pathologist</th>\n",
       "      <th>Year</th>\n",
       "      <th>Case Count</th>\n",
       "      <th>Call rate category III</th>\n",
       "      <th>Positive rate category III</th>\n",
       "    </tr>\n",
       "  </thead>\n",
       "  <tbody>\n",
       "    <tr>\n",
       "      <th>0</th>\n",
       "      <td>Pathologist 2</td>\n",
       "      <td>2018</td>\n",
       "      <td>491</td>\n",
       "      <td>0.128310</td>\n",
       "      <td>0.222222</td>\n",
       "    </tr>\n",
       "    <tr>\n",
       "      <th>0</th>\n",
       "      <td>Pathologist 5</td>\n",
       "      <td>2018</td>\n",
       "      <td>232</td>\n",
       "      <td>0.379310</td>\n",
       "      <td>0.147727</td>\n",
       "    </tr>\n",
       "    <tr>\n",
       "      <th>0</th>\n",
       "      <td>Pathologist 7</td>\n",
       "      <td>2018</td>\n",
       "      <td>4</td>\n",
       "      <td>0.500000</td>\n",
       "      <td>0.000000</td>\n",
       "    </tr>\n",
       "    <tr>\n",
       "      <th>0</th>\n",
       "      <td>Pathologist 8</td>\n",
       "      <td>2018</td>\n",
       "      <td>480</td>\n",
       "      <td>0.139583</td>\n",
       "      <td>0.298507</td>\n",
       "    </tr>\n",
       "    <tr>\n",
       "      <th>0</th>\n",
       "      <td>Pathologist 9</td>\n",
       "      <td>2018</td>\n",
       "      <td>85</td>\n",
       "      <td>0.129412</td>\n",
       "      <td>0.272727</td>\n",
       "    </tr>\n",
       "    <tr>\n",
       "      <th>0</th>\n",
       "      <td>Pathologist 2</td>\n",
       "      <td>2019</td>\n",
       "      <td>358</td>\n",
       "      <td>0.094972</td>\n",
       "      <td>0.323529</td>\n",
       "    </tr>\n",
       "    <tr>\n",
       "      <th>0</th>\n",
       "      <td>Pathologist 5</td>\n",
       "      <td>2019</td>\n",
       "      <td>425</td>\n",
       "      <td>0.230588</td>\n",
       "      <td>0.214286</td>\n",
       "    </tr>\n",
       "    <tr>\n",
       "      <th>0</th>\n",
       "      <td>Pathologist 7</td>\n",
       "      <td>2019</td>\n",
       "      <td>229</td>\n",
       "      <td>0.065502</td>\n",
       "      <td>0.400000</td>\n",
       "    </tr>\n",
       "    <tr>\n",
       "      <th>0</th>\n",
       "      <td>Pathologist 8</td>\n",
       "      <td>2019</td>\n",
       "      <td>358</td>\n",
       "      <td>0.131285</td>\n",
       "      <td>0.361702</td>\n",
       "    </tr>\n",
       "    <tr>\n",
       "      <th>0</th>\n",
       "      <td>Pathologist 9</td>\n",
       "      <td>2019</td>\n",
       "      <td>114</td>\n",
       "      <td>0.157895</td>\n",
       "      <td>0.388889</td>\n",
       "    </tr>\n",
       "    <tr>\n",
       "      <th>0</th>\n",
       "      <td>Pathologist 12</td>\n",
       "      <td>2019</td>\n",
       "      <td>267</td>\n",
       "      <td>0.329588</td>\n",
       "      <td>0.170455</td>\n",
       "    </tr>\n",
       "    <tr>\n",
       "      <th>0</th>\n",
       "      <td>Pathologist 2</td>\n",
       "      <td>2020</td>\n",
       "      <td>99</td>\n",
       "      <td>0.101010</td>\n",
       "      <td>0.300000</td>\n",
       "    </tr>\n",
       "    <tr>\n",
       "      <th>0</th>\n",
       "      <td>Pathologist 5</td>\n",
       "      <td>2020</td>\n",
       "      <td>250</td>\n",
       "      <td>0.276000</td>\n",
       "      <td>0.217391</td>\n",
       "    </tr>\n",
       "    <tr>\n",
       "      <th>0</th>\n",
       "      <td>Pathologist 7</td>\n",
       "      <td>2020</td>\n",
       "      <td>242</td>\n",
       "      <td>0.123967</td>\n",
       "      <td>0.233333</td>\n",
       "    </tr>\n",
       "    <tr>\n",
       "      <th>0</th>\n",
       "      <td>Pathologist 8</td>\n",
       "      <td>2020</td>\n",
       "      <td>61</td>\n",
       "      <td>0.114754</td>\n",
       "      <td>0.142857</td>\n",
       "    </tr>\n",
       "    <tr>\n",
       "      <th>0</th>\n",
       "      <td>Pathologist 9</td>\n",
       "      <td>2020</td>\n",
       "      <td>234</td>\n",
       "      <td>0.141026</td>\n",
       "      <td>0.333333</td>\n",
       "    </tr>\n",
       "    <tr>\n",
       "      <th>0</th>\n",
       "      <td>Pathologist 12</td>\n",
       "      <td>2020</td>\n",
       "      <td>665</td>\n",
       "      <td>0.166917</td>\n",
       "      <td>0.270270</td>\n",
       "    </tr>\n",
       "    <tr>\n",
       "      <th>0</th>\n",
       "      <td>Pathologist 2</td>\n",
       "      <td>2021</td>\n",
       "      <td>113</td>\n",
       "      <td>0.141593</td>\n",
       "      <td>0.250000</td>\n",
       "    </tr>\n",
       "    <tr>\n",
       "      <th>0</th>\n",
       "      <td>Pathologist 5</td>\n",
       "      <td>2021</td>\n",
       "      <td>180</td>\n",
       "      <td>0.238889</td>\n",
       "      <td>0.209302</td>\n",
       "    </tr>\n",
       "    <tr>\n",
       "      <th>0</th>\n",
       "      <td>Pathologist 7</td>\n",
       "      <td>2021</td>\n",
       "      <td>438</td>\n",
       "      <td>0.086758</td>\n",
       "      <td>0.105263</td>\n",
       "    </tr>\n",
       "    <tr>\n",
       "      <th>0</th>\n",
       "      <td>Pathologist 8</td>\n",
       "      <td>2021</td>\n",
       "      <td>92</td>\n",
       "      <td>0.239130</td>\n",
       "      <td>0.136364</td>\n",
       "    </tr>\n",
       "    <tr>\n",
       "      <th>0</th>\n",
       "      <td>Pathologist 9</td>\n",
       "      <td>2021</td>\n",
       "      <td>251</td>\n",
       "      <td>0.175299</td>\n",
       "      <td>0.295455</td>\n",
       "    </tr>\n",
       "    <tr>\n",
       "      <th>0</th>\n",
       "      <td>Pathologist 12</td>\n",
       "      <td>2021</td>\n",
       "      <td>544</td>\n",
       "      <td>0.163603</td>\n",
       "      <td>0.247191</td>\n",
       "    </tr>\n",
       "    <tr>\n",
       "      <th>0</th>\n",
       "      <td>Pathologist 2</td>\n",
       "      <td>2022</td>\n",
       "      <td>74</td>\n",
       "      <td>0.121622</td>\n",
       "      <td>0.222222</td>\n",
       "    </tr>\n",
       "    <tr>\n",
       "      <th>0</th>\n",
       "      <td>Pathologist 5</td>\n",
       "      <td>2022</td>\n",
       "      <td>137</td>\n",
       "      <td>0.226277</td>\n",
       "      <td>0.193548</td>\n",
       "    </tr>\n",
       "    <tr>\n",
       "      <th>0</th>\n",
       "      <td>Pathologist 7</td>\n",
       "      <td>2022</td>\n",
       "      <td>275</td>\n",
       "      <td>0.120000</td>\n",
       "      <td>0.333333</td>\n",
       "    </tr>\n",
       "    <tr>\n",
       "      <th>0</th>\n",
       "      <td>Pathologist 8</td>\n",
       "      <td>2022</td>\n",
       "      <td>71</td>\n",
       "      <td>0.309859</td>\n",
       "      <td>0.090909</td>\n",
       "    </tr>\n",
       "    <tr>\n",
       "      <th>0</th>\n",
       "      <td>Pathologist 9</td>\n",
       "      <td>2022</td>\n",
       "      <td>111</td>\n",
       "      <td>0.270270</td>\n",
       "      <td>0.233333</td>\n",
       "    </tr>\n",
       "    <tr>\n",
       "      <th>0</th>\n",
       "      <td>Pathologist 12</td>\n",
       "      <td>2022</td>\n",
       "      <td>326</td>\n",
       "      <td>0.245399</td>\n",
       "      <td>0.350000</td>\n",
       "    </tr>\n",
       "    <tr>\n",
       "      <th>0</th>\n",
       "      <td>All pathologists</td>\n",
       "      <td>2018</td>\n",
       "      <td>1292</td>\n",
       "      <td>0.178793</td>\n",
       "      <td>0.216450</td>\n",
       "    </tr>\n",
       "    <tr>\n",
       "      <th>0</th>\n",
       "      <td>All pathologists</td>\n",
       "      <td>2019</td>\n",
       "      <td>1751</td>\n",
       "      <td>0.171331</td>\n",
       "      <td>0.256667</td>\n",
       "    </tr>\n",
       "    <tr>\n",
       "      <th>0</th>\n",
       "      <td>All pathologists</td>\n",
       "      <td>2020</td>\n",
       "      <td>1551</td>\n",
       "      <td>0.167634</td>\n",
       "      <td>0.257692</td>\n",
       "    </tr>\n",
       "    <tr>\n",
       "      <th>0</th>\n",
       "      <td>All pathologists</td>\n",
       "      <td>2021</td>\n",
       "      <td>1618</td>\n",
       "      <td>0.155748</td>\n",
       "      <td>0.218254</td>\n",
       "    </tr>\n",
       "    <tr>\n",
       "      <th>0</th>\n",
       "      <td>All pathologists</td>\n",
       "      <td>2022</td>\n",
       "      <td>994</td>\n",
       "      <td>0.206237</td>\n",
       "      <td>0.273171</td>\n",
       "    </tr>\n",
       "  </tbody>\n",
       "</table>\n",
       "</div>"
      ],
      "text/plain": [
       "        Pathologist  Year  ...  Call rate category III  Positive rate category III\n",
       "0     Pathologist 2  2018  ...                0.128310                    0.222222\n",
       "0     Pathologist 5  2018  ...                0.379310                    0.147727\n",
       "0     Pathologist 7  2018  ...                0.500000                    0.000000\n",
       "0     Pathologist 8  2018  ...                0.139583                    0.298507\n",
       "0     Pathologist 9  2018  ...                0.129412                    0.272727\n",
       "0     Pathologist 2  2019  ...                0.094972                    0.323529\n",
       "0     Pathologist 5  2019  ...                0.230588                    0.214286\n",
       "0     Pathologist 7  2019  ...                0.065502                    0.400000\n",
       "0     Pathologist 8  2019  ...                0.131285                    0.361702\n",
       "0     Pathologist 9  2019  ...                0.157895                    0.388889\n",
       "0    Pathologist 12  2019  ...                0.329588                    0.170455\n",
       "0     Pathologist 2  2020  ...                0.101010                    0.300000\n",
       "0     Pathologist 5  2020  ...                0.276000                    0.217391\n",
       "0     Pathologist 7  2020  ...                0.123967                    0.233333\n",
       "0     Pathologist 8  2020  ...                0.114754                    0.142857\n",
       "0     Pathologist 9  2020  ...                0.141026                    0.333333\n",
       "0    Pathologist 12  2020  ...                0.166917                    0.270270\n",
       "0     Pathologist 2  2021  ...                0.141593                    0.250000\n",
       "0     Pathologist 5  2021  ...                0.238889                    0.209302\n",
       "0     Pathologist 7  2021  ...                0.086758                    0.105263\n",
       "0     Pathologist 8  2021  ...                0.239130                    0.136364\n",
       "0     Pathologist 9  2021  ...                0.175299                    0.295455\n",
       "0    Pathologist 12  2021  ...                0.163603                    0.247191\n",
       "0     Pathologist 2  2022  ...                0.121622                    0.222222\n",
       "0     Pathologist 5  2022  ...                0.226277                    0.193548\n",
       "0     Pathologist 7  2022  ...                0.120000                    0.333333\n",
       "0     Pathologist 8  2022  ...                0.309859                    0.090909\n",
       "0     Pathologist 9  2022  ...                0.270270                    0.233333\n",
       "0    Pathologist 12  2022  ...                0.245399                    0.350000\n",
       "0  All pathologists  2018  ...                0.178793                    0.216450\n",
       "0  All pathologists  2019  ...                0.171331                    0.256667\n",
       "0  All pathologists  2020  ...                0.167634                    0.257692\n",
       "0  All pathologists  2021  ...                0.155748                    0.218254\n",
       "0  All pathologists  2022  ...                0.206237                    0.273171\n",
       "\n",
       "[34 rows x 5 columns]"
      ]
     },
     "execution_count": 24,
     "metadata": {},
     "output_type": "execute_result"
    }
   ],
   "source": [
    "gap_minder_data"
   ]
  },
  {
   "cell_type": "code",
   "execution_count": 37,
   "metadata": {},
   "outputs": [
    {
     "data": {
      "text/plain": [
       "Pathologist 2       5\n",
       "Pathologist 5       5\n",
       "Pathologist 7       5\n",
       "Pathologist 8       5\n",
       "Pathologist 9       5\n",
       "All pathologists    5\n",
       "Pathologist 12      4\n",
       "Name: Pathologist, dtype: int64"
      ]
     },
     "execution_count": 37,
     "metadata": {},
     "output_type": "execute_result"
    }
   ],
   "source": [
    "gap_minder_data[\"Pathologist\"].value_counts()"
   ]
  },
  {
   "cell_type": "code",
   "execution_count": 34,
   "metadata": {},
   "outputs": [
    {
     "data": {
      "text/plain": [
       "2020    665\n",
       "2021    544\n",
       "2022    326\n",
       "2019    267\n",
       "Name: YEAR, dtype: int64"
      ]
     },
     "execution_count": 34,
     "metadata": {},
     "output_type": "execute_result"
    }
   ],
   "source": [
    "df[df[\"CYTOPATHOLOGIST\"]==\"Pathologist 12\"][\"YEAR\"].value_counts()"
   ]
  },
  {
   "cell_type": "code",
   "execution_count": 36,
   "metadata": {},
   "outputs": [
    {
     "data": {
      "text/html": [
       "<div>\n",
       "<style scoped>\n",
       "    .dataframe tbody tr th:only-of-type {\n",
       "        vertical-align: middle;\n",
       "    }\n",
       "\n",
       "    .dataframe tbody tr th {\n",
       "        vertical-align: top;\n",
       "    }\n",
       "\n",
       "    .dataframe thead th {\n",
       "        text-align: right;\n",
       "    }\n",
       "</style>\n",
       "<table border=\"1\" class=\"dataframe\">\n",
       "  <thead>\n",
       "    <tr style=\"text-align: right;\">\n",
       "      <th></th>\n",
       "      <th>Pathologist</th>\n",
       "      <th>Year</th>\n",
       "      <th>Case Count</th>\n",
       "      <th>Call rate category III</th>\n",
       "      <th>Positive rate category III</th>\n",
       "    </tr>\n",
       "  </thead>\n",
       "  <tbody>\n",
       "    <tr>\n",
       "      <th>0</th>\n",
       "      <td>Pathologist 2</td>\n",
       "      <td>2018</td>\n",
       "      <td>491</td>\n",
       "      <td>0.128310</td>\n",
       "      <td>0.222222</td>\n",
       "    </tr>\n",
       "    <tr>\n",
       "      <th>0</th>\n",
       "      <td>Pathologist 5</td>\n",
       "      <td>2018</td>\n",
       "      <td>232</td>\n",
       "      <td>0.379310</td>\n",
       "      <td>0.147727</td>\n",
       "    </tr>\n",
       "    <tr>\n",
       "      <th>0</th>\n",
       "      <td>Pathologist 7</td>\n",
       "      <td>2018</td>\n",
       "      <td>4</td>\n",
       "      <td>0.500000</td>\n",
       "      <td>0.000000</td>\n",
       "    </tr>\n",
       "    <tr>\n",
       "      <th>0</th>\n",
       "      <td>Pathologist 8</td>\n",
       "      <td>2018</td>\n",
       "      <td>480</td>\n",
       "      <td>0.139583</td>\n",
       "      <td>0.298507</td>\n",
       "    </tr>\n",
       "    <tr>\n",
       "      <th>0</th>\n",
       "      <td>Pathologist 9</td>\n",
       "      <td>2018</td>\n",
       "      <td>85</td>\n",
       "      <td>0.129412</td>\n",
       "      <td>0.272727</td>\n",
       "    </tr>\n",
       "    <tr>\n",
       "      <th>0</th>\n",
       "      <td>Pathologist 2</td>\n",
       "      <td>2019</td>\n",
       "      <td>358</td>\n",
       "      <td>0.094972</td>\n",
       "      <td>0.323529</td>\n",
       "    </tr>\n",
       "    <tr>\n",
       "      <th>0</th>\n",
       "      <td>Pathologist 5</td>\n",
       "      <td>2019</td>\n",
       "      <td>425</td>\n",
       "      <td>0.230588</td>\n",
       "      <td>0.214286</td>\n",
       "    </tr>\n",
       "    <tr>\n",
       "      <th>0</th>\n",
       "      <td>Pathologist 7</td>\n",
       "      <td>2019</td>\n",
       "      <td>229</td>\n",
       "      <td>0.065502</td>\n",
       "      <td>0.400000</td>\n",
       "    </tr>\n",
       "    <tr>\n",
       "      <th>0</th>\n",
       "      <td>Pathologist 8</td>\n",
       "      <td>2019</td>\n",
       "      <td>358</td>\n",
       "      <td>0.131285</td>\n",
       "      <td>0.361702</td>\n",
       "    </tr>\n",
       "    <tr>\n",
       "      <th>0</th>\n",
       "      <td>Pathologist 9</td>\n",
       "      <td>2019</td>\n",
       "      <td>114</td>\n",
       "      <td>0.157895</td>\n",
       "      <td>0.388889</td>\n",
       "    </tr>\n",
       "    <tr>\n",
       "      <th>0</th>\n",
       "      <td>Pathologist 12</td>\n",
       "      <td>2019</td>\n",
       "      <td>267</td>\n",
       "      <td>0.329588</td>\n",
       "      <td>0.170455</td>\n",
       "    </tr>\n",
       "    <tr>\n",
       "      <th>0</th>\n",
       "      <td>Pathologist 2</td>\n",
       "      <td>2020</td>\n",
       "      <td>99</td>\n",
       "      <td>0.101010</td>\n",
       "      <td>0.300000</td>\n",
       "    </tr>\n",
       "    <tr>\n",
       "      <th>0</th>\n",
       "      <td>Pathologist 5</td>\n",
       "      <td>2020</td>\n",
       "      <td>250</td>\n",
       "      <td>0.276000</td>\n",
       "      <td>0.217391</td>\n",
       "    </tr>\n",
       "    <tr>\n",
       "      <th>0</th>\n",
       "      <td>Pathologist 7</td>\n",
       "      <td>2020</td>\n",
       "      <td>242</td>\n",
       "      <td>0.123967</td>\n",
       "      <td>0.233333</td>\n",
       "    </tr>\n",
       "    <tr>\n",
       "      <th>0</th>\n",
       "      <td>Pathologist 8</td>\n",
       "      <td>2020</td>\n",
       "      <td>61</td>\n",
       "      <td>0.114754</td>\n",
       "      <td>0.142857</td>\n",
       "    </tr>\n",
       "    <tr>\n",
       "      <th>0</th>\n",
       "      <td>Pathologist 9</td>\n",
       "      <td>2020</td>\n",
       "      <td>234</td>\n",
       "      <td>0.141026</td>\n",
       "      <td>0.333333</td>\n",
       "    </tr>\n",
       "    <tr>\n",
       "      <th>0</th>\n",
       "      <td>Pathologist 12</td>\n",
       "      <td>2020</td>\n",
       "      <td>665</td>\n",
       "      <td>0.166917</td>\n",
       "      <td>0.270270</td>\n",
       "    </tr>\n",
       "    <tr>\n",
       "      <th>0</th>\n",
       "      <td>Pathologist 2</td>\n",
       "      <td>2021</td>\n",
       "      <td>113</td>\n",
       "      <td>0.141593</td>\n",
       "      <td>0.250000</td>\n",
       "    </tr>\n",
       "    <tr>\n",
       "      <th>0</th>\n",
       "      <td>Pathologist 5</td>\n",
       "      <td>2021</td>\n",
       "      <td>180</td>\n",
       "      <td>0.238889</td>\n",
       "      <td>0.209302</td>\n",
       "    </tr>\n",
       "    <tr>\n",
       "      <th>0</th>\n",
       "      <td>Pathologist 7</td>\n",
       "      <td>2021</td>\n",
       "      <td>438</td>\n",
       "      <td>0.086758</td>\n",
       "      <td>0.105263</td>\n",
       "    </tr>\n",
       "    <tr>\n",
       "      <th>0</th>\n",
       "      <td>Pathologist 8</td>\n",
       "      <td>2021</td>\n",
       "      <td>92</td>\n",
       "      <td>0.239130</td>\n",
       "      <td>0.136364</td>\n",
       "    </tr>\n",
       "    <tr>\n",
       "      <th>0</th>\n",
       "      <td>Pathologist 9</td>\n",
       "      <td>2021</td>\n",
       "      <td>251</td>\n",
       "      <td>0.175299</td>\n",
       "      <td>0.295455</td>\n",
       "    </tr>\n",
       "    <tr>\n",
       "      <th>0</th>\n",
       "      <td>Pathologist 12</td>\n",
       "      <td>2021</td>\n",
       "      <td>544</td>\n",
       "      <td>0.163603</td>\n",
       "      <td>0.247191</td>\n",
       "    </tr>\n",
       "    <tr>\n",
       "      <th>0</th>\n",
       "      <td>Pathologist 2</td>\n",
       "      <td>2022</td>\n",
       "      <td>74</td>\n",
       "      <td>0.121622</td>\n",
       "      <td>0.222222</td>\n",
       "    </tr>\n",
       "    <tr>\n",
       "      <th>0</th>\n",
       "      <td>Pathologist 5</td>\n",
       "      <td>2022</td>\n",
       "      <td>137</td>\n",
       "      <td>0.226277</td>\n",
       "      <td>0.193548</td>\n",
       "    </tr>\n",
       "    <tr>\n",
       "      <th>0</th>\n",
       "      <td>Pathologist 7</td>\n",
       "      <td>2022</td>\n",
       "      <td>275</td>\n",
       "      <td>0.120000</td>\n",
       "      <td>0.333333</td>\n",
       "    </tr>\n",
       "    <tr>\n",
       "      <th>0</th>\n",
       "      <td>Pathologist 8</td>\n",
       "      <td>2022</td>\n",
       "      <td>71</td>\n",
       "      <td>0.309859</td>\n",
       "      <td>0.090909</td>\n",
       "    </tr>\n",
       "    <tr>\n",
       "      <th>0</th>\n",
       "      <td>Pathologist 9</td>\n",
       "      <td>2022</td>\n",
       "      <td>111</td>\n",
       "      <td>0.270270</td>\n",
       "      <td>0.233333</td>\n",
       "    </tr>\n",
       "    <tr>\n",
       "      <th>0</th>\n",
       "      <td>Pathologist 12</td>\n",
       "      <td>2022</td>\n",
       "      <td>326</td>\n",
       "      <td>0.245399</td>\n",
       "      <td>0.350000</td>\n",
       "    </tr>\n",
       "    <tr>\n",
       "      <th>0</th>\n",
       "      <td>All pathologists</td>\n",
       "      <td>2018</td>\n",
       "      <td>1292</td>\n",
       "      <td>0.178793</td>\n",
       "      <td>0.216450</td>\n",
       "    </tr>\n",
       "    <tr>\n",
       "      <th>0</th>\n",
       "      <td>All pathologists</td>\n",
       "      <td>2019</td>\n",
       "      <td>1751</td>\n",
       "      <td>0.171331</td>\n",
       "      <td>0.256667</td>\n",
       "    </tr>\n",
       "    <tr>\n",
       "      <th>0</th>\n",
       "      <td>All pathologists</td>\n",
       "      <td>2020</td>\n",
       "      <td>1551</td>\n",
       "      <td>0.167634</td>\n",
       "      <td>0.257692</td>\n",
       "    </tr>\n",
       "    <tr>\n",
       "      <th>0</th>\n",
       "      <td>All pathologists</td>\n",
       "      <td>2021</td>\n",
       "      <td>1618</td>\n",
       "      <td>0.155748</td>\n",
       "      <td>0.218254</td>\n",
       "    </tr>\n",
       "    <tr>\n",
       "      <th>0</th>\n",
       "      <td>All pathologists</td>\n",
       "      <td>2022</td>\n",
       "      <td>994</td>\n",
       "      <td>0.206237</td>\n",
       "      <td>0.273171</td>\n",
       "    </tr>\n",
       "  </tbody>\n",
       "</table>\n",
       "</div>"
      ],
      "text/plain": [
       "        Pathologist  Year  ...  Call rate category III  Positive rate category III\n",
       "0     Pathologist 2  2018  ...                0.128310                    0.222222\n",
       "0     Pathologist 5  2018  ...                0.379310                    0.147727\n",
       "0     Pathologist 7  2018  ...                0.500000                    0.000000\n",
       "0     Pathologist 8  2018  ...                0.139583                    0.298507\n",
       "0     Pathologist 9  2018  ...                0.129412                    0.272727\n",
       "0     Pathologist 2  2019  ...                0.094972                    0.323529\n",
       "0     Pathologist 5  2019  ...                0.230588                    0.214286\n",
       "0     Pathologist 7  2019  ...                0.065502                    0.400000\n",
       "0     Pathologist 8  2019  ...                0.131285                    0.361702\n",
       "0     Pathologist 9  2019  ...                0.157895                    0.388889\n",
       "0    Pathologist 12  2019  ...                0.329588                    0.170455\n",
       "0     Pathologist 2  2020  ...                0.101010                    0.300000\n",
       "0     Pathologist 5  2020  ...                0.276000                    0.217391\n",
       "0     Pathologist 7  2020  ...                0.123967                    0.233333\n",
       "0     Pathologist 8  2020  ...                0.114754                    0.142857\n",
       "0     Pathologist 9  2020  ...                0.141026                    0.333333\n",
       "0    Pathologist 12  2020  ...                0.166917                    0.270270\n",
       "0     Pathologist 2  2021  ...                0.141593                    0.250000\n",
       "0     Pathologist 5  2021  ...                0.238889                    0.209302\n",
       "0     Pathologist 7  2021  ...                0.086758                    0.105263\n",
       "0     Pathologist 8  2021  ...                0.239130                    0.136364\n",
       "0     Pathologist 9  2021  ...                0.175299                    0.295455\n",
       "0    Pathologist 12  2021  ...                0.163603                    0.247191\n",
       "0     Pathologist 2  2022  ...                0.121622                    0.222222\n",
       "0     Pathologist 5  2022  ...                0.226277                    0.193548\n",
       "0     Pathologist 7  2022  ...                0.120000                    0.333333\n",
       "0     Pathologist 8  2022  ...                0.309859                    0.090909\n",
       "0     Pathologist 9  2022  ...                0.270270                    0.233333\n",
       "0    Pathologist 12  2022  ...                0.245399                    0.350000\n",
       "0  All pathologists  2018  ...                0.178793                    0.216450\n",
       "0  All pathologists  2019  ...                0.171331                    0.256667\n",
       "0  All pathologists  2020  ...                0.167634                    0.257692\n",
       "0  All pathologists  2021  ...                0.155748                    0.218254\n",
       "0  All pathologists  2022  ...                0.206237                    0.273171\n",
       "\n",
       "[34 rows x 5 columns]"
      ]
     },
     "execution_count": 36,
     "metadata": {},
     "output_type": "execute_result"
    }
   ],
   "source": [
    "gap_minder_data"
   ]
  }
 ],
 "metadata": {
  "kernelspec": {
   "display_name": "dash_tutorial",
   "language": "python",
   "name": "python3"
  },
  "language_info": {
   "codemirror_mode": {
    "name": "ipython",
    "version": 3
   },
   "file_extension": ".py",
   "mimetype": "text/x-python",
   "name": "python",
   "nbconvert_exporter": "python",
   "pygments_lexer": "ipython3",
   "version": "3.10.8"
  },
  "orig_nbformat": 4,
  "vscode": {
   "interpreter": {
    "hash": "31fb68429e91cc16ee00ba7a208e84b76758121316b8f5a99b7f17a1b208923b"
   }
  }
 },
 "nbformat": 4,
 "nbformat_minor": 2
}
